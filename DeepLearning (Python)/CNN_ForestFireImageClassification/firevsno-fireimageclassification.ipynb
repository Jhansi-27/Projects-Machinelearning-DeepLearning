{
 "cells": [
  {
   "cell_type": "code",
   "execution_count": 1,
   "id": "different-curve",
   "metadata": {
    "execution": {
     "iopub.execute_input": "2021-04-16T21:40:16.505422Z",
     "iopub.status.busy": "2021-04-16T21:40:16.504831Z",
     "iopub.status.idle": "2021-04-16T21:40:20.826575Z",
     "shell.execute_reply": "2021-04-16T21:40:20.825372Z"
    },
    "papermill": {
     "duration": 4.33736,
     "end_time": "2021-04-16T21:40:20.826742",
     "exception": false,
     "start_time": "2021-04-16T21:40:16.489382",
     "status": "completed"
    },
    "tags": []
   },
   "outputs": [],
   "source": [
    "import tensorflow as tf\n",
    "from tensorflow.keras.models import Sequential,load_model\n",
    "from tensorflow.keras.layers import Activation,Conv2D,Dense,MaxPool2D,Dropout,Flatten\n",
    "from tensorflow.keras.preprocessing.image import ImageDataGenerator,img_to_array\n",
    "from tensorflow.keras.applications import VGG16"
   ]
  },
  {
   "cell_type": "code",
   "execution_count": 2,
   "id": "lesser-castle",
   "metadata": {
    "execution": {
     "iopub.execute_input": "2021-04-16T21:40:20.849012Z",
     "iopub.status.busy": "2021-04-16T21:40:20.848108Z",
     "iopub.status.idle": "2021-04-16T21:40:20.850391Z",
     "shell.execute_reply": "2021-04-16T21:40:20.849890Z"
    },
    "papermill": {
     "duration": 0.014882,
     "end_time": "2021-04-16T21:40:20.850503",
     "exception": false,
     "start_time": "2021-04-16T21:40:20.835621",
     "status": "completed"
    },
    "tags": []
   },
   "outputs": [],
   "source": [
    "train_dir = '../input/firedata/Training/Training'\n",
    "test_dir = '../input/firedata/Test/Test'"
   ]
  },
  {
   "cell_type": "code",
   "execution_count": 3,
   "id": "arctic-buffalo",
   "metadata": {
    "execution": {
     "iopub.execute_input": "2021-04-16T21:40:20.873826Z",
     "iopub.status.busy": "2021-04-16T21:40:20.873290Z",
     "iopub.status.idle": "2021-04-16T21:40:49.156013Z",
     "shell.execute_reply": "2021-04-16T21:40:49.155409Z"
    },
    "papermill": {
     "duration": 28.297126,
     "end_time": "2021-04-16T21:40:49.156176",
     "exception": false,
     "start_time": "2021-04-16T21:40:20.859050",
     "status": "completed"
    },
    "tags": []
   },
   "outputs": [
    {
     "name": "stdout",
     "output_type": "stream",
     "text": [
      "Found 31501 images belonging to 2 classes.\n",
      "Found 7874 images belonging to 2 classes.\n"
     ]
    }
   ],
   "source": [
    "train_images = ImageDataGenerator(rescale=1.0/255,\n",
    "                                 zoom_range=0.1,\n",
    "                                 width_shift_range=0.2,\n",
    "                                 height_shift_range=0.2,\n",
    "                                 horizontal_flip=True,\n",
    "                                 vertical_flip=True,\n",
    "                                 validation_split=0.2)\n",
    "\n",
    "train_generator = train_images.flow_from_directory(train_dir,\n",
    "                                                    target_size=(254,254), \n",
    "                                                    color_mode='rgb', \n",
    "                                                    class_mode='binary',\n",
    "                                                    shuffle=True,\n",
    "                                                    batch_size=64,\n",
    "                                                    subset='training')\n",
    "\n",
    "validation_generator = train_images.flow_from_directory(train_dir, \n",
    "                                                        target_size=(254,254),\n",
    "                                                        color_mode='rgb',\n",
    "                                                        class_mode='binary',\n",
    "                                                        batch_size=64,\n",
    "                                                        shuffle=True,\n",
    "                                                        subset='validation')"
   ]
  },
  {
   "cell_type": "code",
   "execution_count": 4,
   "id": "substantial-score",
   "metadata": {
    "execution": {
     "iopub.execute_input": "2021-04-16T21:40:49.180276Z",
     "iopub.status.busy": "2021-04-16T21:40:49.179740Z",
     "iopub.status.idle": "2021-04-16T21:40:53.198036Z",
     "shell.execute_reply": "2021-04-16T21:40:53.198661Z"
    },
    "papermill": {
     "duration": 4.03247,
     "end_time": "2021-04-16T21:40:53.198867",
     "exception": false,
     "start_time": "2021-04-16T21:40:49.166397",
     "status": "completed"
    },
    "tags": []
   },
   "outputs": [
    {
     "name": "stdout",
     "output_type": "stream",
     "text": [
      "Found 8617 images belonging to 2 classes.\n"
     ]
    }
   ],
   "source": [
    "test_images = ImageDataGenerator(rescale=1.0/255)\n",
    "\n",
    "test_generator = test_images.flow_from_directory(test_dir,\n",
    "                                                    target_size=(254,254), \n",
    "                                                    color_mode='rgb', \n",
    "                                                    class_mode='binary',\n",
    "                                                    shuffle=False,\n",
    "                                                    batch_size=64)"
   ]
  },
  {
   "cell_type": "code",
   "execution_count": 5,
   "id": "preliminary-flight",
   "metadata": {
    "execution": {
     "iopub.execute_input": "2021-04-16T21:40:53.227193Z",
     "iopub.status.busy": "2021-04-16T21:40:53.226692Z",
     "iopub.status.idle": "2021-04-16T21:40:56.255265Z",
     "shell.execute_reply": "2021-04-16T21:40:56.254687Z"
    },
    "papermill": {
     "duration": 3.045756,
     "end_time": "2021-04-16T21:40:56.255428",
     "exception": false,
     "start_time": "2021-04-16T21:40:53.209672",
     "status": "completed"
    },
    "tags": []
   },
   "outputs": [
    {
     "name": "stdout",
     "output_type": "stream",
     "text": [
      "Model: \"sequential\"\n",
      "_________________________________________________________________\n",
      "Layer (type)                 Output Shape              Param #   \n",
      "=================================================================\n",
      "conv2d (Conv2D)              (None, 252, 252, 32)      896       \n",
      "_________________________________________________________________\n",
      "activation (Activation)      (None, 252, 252, 32)      0         \n",
      "_________________________________________________________________\n",
      "max_pooling2d (MaxPooling2D) (None, 126, 126, 32)      0         \n",
      "_________________________________________________________________\n",
      "conv2d_1 (Conv2D)            (None, 124, 124, 64)      18496     \n",
      "_________________________________________________________________\n",
      "activation_1 (Activation)    (None, 124, 124, 64)      0         \n",
      "_________________________________________________________________\n",
      "max_pooling2d_1 (MaxPooling2 (None, 62, 62, 64)        0         \n",
      "_________________________________________________________________\n",
      "conv2d_2 (Conv2D)            (None, 60, 60, 128)       73856     \n",
      "_________________________________________________________________\n",
      "activation_2 (Activation)    (None, 60, 60, 128)       0         \n",
      "_________________________________________________________________\n",
      "max_pooling2d_2 (MaxPooling2 (None, 30, 30, 128)       0         \n",
      "_________________________________________________________________\n",
      "flatten (Flatten)            (None, 115200)            0         \n",
      "_________________________________________________________________\n",
      "dense (Dense)                (None, 128)               14745728  \n",
      "_________________________________________________________________\n",
      "activation_3 (Activation)    (None, 128)               0         \n",
      "_________________________________________________________________\n",
      "dropout (Dropout)            (None, 128)               0         \n",
      "_________________________________________________________________\n",
      "dense_1 (Dense)              (None, 1)                 129       \n",
      "_________________________________________________________________\n",
      "activation_4 (Activation)    (None, 1)                 0         \n",
      "=================================================================\n",
      "Total params: 14,839,105\n",
      "Trainable params: 14,839,105\n",
      "Non-trainable params: 0\n",
      "_________________________________________________________________\n"
     ]
    }
   ],
   "source": [
    "input_shape = (254,254,3)\n",
    "model = Sequential()\n",
    "model.add(Conv2D(32, (3, 3), input_shape=input_shape))\n",
    "model.add(Activation('relu'))\n",
    "model.add(MaxPool2D(pool_size=(2, 2)))\n",
    "\n",
    "model.add(Conv2D(64, (3, 3)))\n",
    "model.add(Activation('relu'))\n",
    "model.add(MaxPool2D(pool_size=(2, 2)))\n",
    "\n",
    "model.add(Conv2D(128, (3, 3)))\n",
    "model.add(Activation('relu'))\n",
    "model.add(MaxPool2D(pool_size=(2, 2)))\n",
    "\n",
    "model.add(Flatten())\n",
    "model.add(Dense(128))\n",
    "model.add(Activation('relu'))\n",
    "model.add(Dropout(0.5))\n",
    "model.add(Dense(1))\n",
    "model.add(Activation('sigmoid'))\n",
    "\n",
    "model.compile(loss='binary_crossentropy',\n",
    "              optimizer='rmsprop',\n",
    "              metrics=['accuracy'])\n",
    "model.summary()"
   ]
  },
  {
   "cell_type": "code",
   "execution_count": 6,
   "id": "thermal-prototype",
   "metadata": {
    "execution": {
     "iopub.execute_input": "2021-04-16T21:40:56.478374Z",
     "iopub.status.busy": "2021-04-16T21:40:56.477512Z",
     "iopub.status.idle": "2021-04-17T04:51:02.429138Z",
     "shell.execute_reply": "2021-04-17T04:51:02.428182Z"
    },
    "papermill": {
     "duration": 25806.163349,
     "end_time": "2021-04-17T04:51:02.429352",
     "exception": false,
     "start_time": "2021-04-16T21:40:56.266003",
     "status": "completed"
    },
    "tags": []
   },
   "outputs": [
    {
     "name": "stdout",
     "output_type": "stream",
     "text": [
      "Epoch 1/50\n",
      "492/492 [==============================] - 892s 2s/step - loss: 0.9223 - accuracy: 0.7960 - val_loss: 0.0691 - val_accuracy: 0.9743\n",
      "\n",
      "Epoch 00001: val_loss improved from inf to 0.06915, saving model to weights.h5\n",
      "Epoch 2/50\n",
      "492/492 [==============================] - 594s 1s/step - loss: 0.1872 - accuracy: 0.9344 - val_loss: 0.0797 - val_accuracy: 0.9755\n",
      "\n",
      "Epoch 00002: val_loss did not improve from 0.06915\n",
      "Epoch 3/50\n",
      "492/492 [==============================] - 594s 1s/step - loss: 0.1454 - accuracy: 0.9499 - val_loss: 0.1569 - val_accuracy: 0.9369\n",
      "\n",
      "Epoch 00003: val_loss did not improve from 0.06915\n",
      "Epoch 4/50\n",
      "492/492 [==============================] - 598s 1s/step - loss: 0.1654 - accuracy: 0.9511 - val_loss: 0.1031 - val_accuracy: 0.9597\n",
      "\n",
      "Epoch 00004: val_loss did not improve from 0.06915\n",
      "Epoch 5/50\n",
      "492/492 [==============================] - 599s 1s/step - loss: 0.1298 - accuracy: 0.9596 - val_loss: 0.0548 - val_accuracy: 0.9727\n",
      "\n",
      "Epoch 00005: val_loss improved from 0.06915 to 0.05478, saving model to weights.h5\n",
      "Epoch 6/50\n",
      "492/492 [==============================] - 600s 1s/step - loss: 0.2664 - accuracy: 0.9560 - val_loss: 0.0995 - val_accuracy: 0.9646\n",
      "\n",
      "Epoch 00006: val_loss did not improve from 0.05478\n",
      "Epoch 7/50\n",
      "492/492 [==============================] - 606s 1s/step - loss: 0.1400 - accuracy: 0.9592 - val_loss: 0.0776 - val_accuracy: 0.9751\n",
      "\n",
      "Epoch 00007: val_loss did not improve from 0.05478\n",
      "Epoch 8/50\n",
      "492/492 [==============================] - 620s 1s/step - loss: 0.1258 - accuracy: 0.9634 - val_loss: 0.1018 - val_accuracy: 0.9694\n",
      "\n",
      "Epoch 00008: val_loss did not improve from 0.05478\n",
      "Epoch 9/50\n",
      "492/492 [==============================] - 618s 1s/step - loss: 0.1037 - accuracy: 0.9662 - val_loss: 0.0893 - val_accuracy: 0.9775\n",
      "\n",
      "Epoch 00009: val_loss did not improve from 0.05478\n",
      "Epoch 10/50\n",
      "492/492 [==============================] - 616s 1s/step - loss: 0.1189 - accuracy: 0.9663 - val_loss: 0.1360 - val_accuracy: 0.9775\n",
      "\n",
      "Epoch 00010: val_loss did not improve from 0.05478\n",
      "Epoch 11/50\n",
      "492/492 [==============================] - 612s 1s/step - loss: 0.1281 - accuracy: 0.9646 - val_loss: 0.0808 - val_accuracy: 0.9818\n",
      "\n",
      "Epoch 00011: val_loss did not improve from 0.05478\n",
      "Epoch 12/50\n",
      "492/492 [==============================] - 629s 1s/step - loss: 0.3124 - accuracy: 0.9703 - val_loss: 0.1766 - val_accuracy: 0.9674\n",
      "\n",
      "Epoch 00012: val_loss did not improve from 0.05478\n",
      "Epoch 13/50\n",
      "492/492 [==============================] - 621s 1s/step - loss: 0.0927 - accuracy: 0.9698 - val_loss: 0.0290 - val_accuracy: 0.9938\n",
      "\n",
      "Epoch 00013: val_loss improved from 0.05478 to 0.02896, saving model to weights.h5\n",
      "Epoch 14/50\n",
      "492/492 [==============================] - 618s 1s/step - loss: 0.1232 - accuracy: 0.9697 - val_loss: 0.1022 - val_accuracy: 0.9710\n",
      "\n",
      "Epoch 00014: val_loss did not improve from 0.02896\n",
      "Epoch 15/50\n",
      "492/492 [==============================] - 623s 1s/step - loss: 0.0966 - accuracy: 0.9667 - val_loss: 0.0861 - val_accuracy: 0.9817\n",
      "\n",
      "Epoch 00015: val_loss did not improve from 0.02896\n",
      "Epoch 16/50\n",
      "492/492 [==============================] - 638s 1s/step - loss: 0.1393 - accuracy: 0.9700 - val_loss: 0.0835 - val_accuracy: 0.9830\n",
      "\n",
      "Epoch 00016: val_loss did not improve from 0.02896\n",
      "Epoch 17/50\n",
      "492/492 [==============================] - 625s 1s/step - loss: 0.0861 - accuracy: 0.9710 - val_loss: 0.0927 - val_accuracy: 0.9762\n",
      "\n",
      "Epoch 00017: val_loss did not improve from 0.02896\n",
      "Epoch 18/50\n",
      "492/492 [==============================] - 624s 1s/step - loss: 0.1206 - accuracy: 0.9699 - val_loss: 0.1004 - val_accuracy: 0.9909\n",
      "\n",
      "Epoch 00018: val_loss did not improve from 0.02896\n",
      "Epoch 19/50\n",
      "492/492 [==============================] - 640s 1s/step - loss: 0.2902 - accuracy: 0.9706 - val_loss: 0.1236 - val_accuracy: 0.9782\n",
      "\n",
      "Epoch 00019: val_loss did not improve from 0.02896\n",
      "Epoch 20/50\n",
      "492/492 [==============================] - 645s 1s/step - loss: 0.1320 - accuracy: 0.9687 - val_loss: 0.1285 - val_accuracy: 0.9783\n",
      "\n",
      "Epoch 00020: val_loss did not improve from 0.02896\n",
      "Epoch 21/50\n",
      "492/492 [==============================] - 628s 1s/step - loss: 0.1394 - accuracy: 0.9683 - val_loss: 0.0273 - val_accuracy: 0.9943\n",
      "\n",
      "Epoch 00021: val_loss improved from 0.02896 to 0.02731, saving model to weights.h5\n",
      "Epoch 22/50\n",
      "492/492 [==============================] - 634s 1s/step - loss: 0.0926 - accuracy: 0.9727 - val_loss: 0.0305 - val_accuracy: 0.9883\n",
      "\n",
      "Epoch 00022: val_loss did not improve from 0.02731\n",
      "Epoch 23/50\n",
      "492/492 [==============================] - 632s 1s/step - loss: 0.1134 - accuracy: 0.9713 - val_loss: 0.0194 - val_accuracy: 0.9917\n",
      "\n",
      "Epoch 00023: val_loss improved from 0.02731 to 0.01940, saving model to weights.h5\n",
      "Epoch 24/50\n",
      "492/492 [==============================] - 635s 1s/step - loss: 0.0878 - accuracy: 0.9714 - val_loss: 0.1124 - val_accuracy: 0.9839\n",
      "\n",
      "Epoch 00024: val_loss did not improve from 0.01940\n",
      "Epoch 25/50\n",
      "492/492 [==============================] - 631s 1s/step - loss: 0.2875 - accuracy: 0.9696 - val_loss: 0.1330 - val_accuracy: 0.9721\n",
      "\n",
      "Epoch 00025: val_loss did not improve from 0.01940\n",
      "Epoch 26/50\n",
      "492/492 [==============================] - 632s 1s/step - loss: 0.1097 - accuracy: 0.9735 - val_loss: 0.0996 - val_accuracy: 0.9795\n",
      "\n",
      "Epoch 00026: val_loss did not improve from 0.01940\n",
      "Epoch 27/50\n",
      "492/492 [==============================] - 634s 1s/step - loss: 0.1111 - accuracy: 0.9703 - val_loss: 0.1112 - val_accuracy: 0.9845\n",
      "\n",
      "Epoch 00027: val_loss did not improve from 0.01940\n",
      "Epoch 28/50\n",
      "492/492 [==============================] - 643s 1s/step - loss: 0.0967 - accuracy: 0.9736 - val_loss: 0.0602 - val_accuracy: 0.9842\n",
      "\n",
      "Epoch 00028: val_loss did not improve from 0.01940\n",
      "Epoch 29/50\n",
      "492/492 [==============================] - 623s 1s/step - loss: 0.0964 - accuracy: 0.9717 - val_loss: 0.1232 - val_accuracy: 0.9793\n",
      "\n",
      "Epoch 00029: val_loss did not improve from 0.01940\n",
      "Epoch 30/50\n",
      "492/492 [==============================] - 619s 1s/step - loss: 0.0819 - accuracy: 0.9730 - val_loss: 0.0864 - val_accuracy: 0.9783\n",
      "\n",
      "Epoch 00030: val_loss did not improve from 0.01940\n",
      "Epoch 31/50\n",
      "492/492 [==============================] - 633s 1s/step - loss: 0.2511 - accuracy: 0.9717 - val_loss: 0.0138 - val_accuracy: 0.9975\n",
      "\n",
      "Epoch 00031: val_loss improved from 0.01940 to 0.01384, saving model to weights.h5\n",
      "Epoch 32/50\n",
      "492/492 [==============================] - 629s 1s/step - loss: 0.1642 - accuracy: 0.9713 - val_loss: 0.0324 - val_accuracy: 0.9870\n",
      "\n",
      "Epoch 00032: val_loss did not improve from 0.01384\n",
      "Epoch 33/50\n",
      "492/492 [==============================] - 625s 1s/step - loss: 0.0884 - accuracy: 0.9752 - val_loss: 0.1385 - val_accuracy: 0.9768\n",
      "\n",
      "Epoch 00033: val_loss did not improve from 0.01384\n",
      "Epoch 34/50\n",
      "492/492 [==============================] - 620s 1s/step - loss: 0.1194 - accuracy: 0.9767 - val_loss: 0.0621 - val_accuracy: 0.9816\n",
      "\n",
      "Epoch 00034: val_loss did not improve from 0.01384\n",
      "Epoch 35/50\n",
      "492/492 [==============================] - 620s 1s/step - loss: 0.1085 - accuracy: 0.9774 - val_loss: 0.0757 - val_accuracy: 0.9834\n",
      "\n",
      "Epoch 00035: val_loss did not improve from 0.01384\n",
      "Epoch 36/50\n",
      "492/492 [==============================] - 619s 1s/step - loss: 0.0969 - accuracy: 0.9744 - val_loss: 0.0528 - val_accuracy: 0.9823\n",
      "\n",
      "Epoch 00036: val_loss did not improve from 0.01384\n",
      "Epoch 37/50\n",
      "492/492 [==============================] - 623s 1s/step - loss: 0.0784 - accuracy: 0.9771 - val_loss: 0.0911 - val_accuracy: 0.9756\n",
      "\n",
      "Epoch 00037: val_loss did not improve from 0.01384\n",
      "Epoch 38/50\n",
      "492/492 [==============================] - 627s 1s/step - loss: 0.1455 - accuracy: 0.9756 - val_loss: 0.0453 - val_accuracy: 0.9884\n",
      "\n",
      "Epoch 00038: val_loss did not improve from 0.01384\n",
      "Epoch 39/50\n",
      "492/492 [==============================] - 625s 1s/step - loss: 0.0841 - accuracy: 0.9778 - val_loss: 0.0369 - val_accuracy: 0.9846\n",
      "\n",
      "Epoch 00039: val_loss did not improve from 0.01384\n",
      "Epoch 40/50\n",
      "492/492 [==============================] - 626s 1s/step - loss: 0.0914 - accuracy: 0.9772 - val_loss: 0.0627 - val_accuracy: 0.9863\n",
      "\n",
      "Epoch 00040: val_loss did not improve from 0.01384\n",
      "Epoch 41/50\n",
      "492/492 [==============================] - 625s 1s/step - loss: 0.0897 - accuracy: 0.9762 - val_loss: 0.0668 - val_accuracy: 0.9835\n",
      "\n",
      "Epoch 00041: ReduceLROnPlateau reducing learning rate to 0.0005000000237487257.\n",
      "\n",
      "Epoch 00041: val_loss did not improve from 0.01384\n",
      "Epoch 00041: early stopping\n"
     ]
    }
   ],
   "source": [
    "from tensorflow.keras.callbacks import EarlyStopping, ModelCheckpoint, TensorBoard, ReduceLROnPlateau\n",
    "import datetime\n",
    "from tensorflow.keras.utils import plot_model\n",
    "import matplotlib.pyplot as plt\n",
    "from matplotlib.pyplot import figure, imshow, axis\n",
    "from matplotlib.image import imread\n",
    "from IPython.display import Image, display\n",
    "\n",
    "es = EarlyStopping(monitor='val_loss', min_delta=1e-10, patience=10, verbose=1)\n",
    "rlr = ReduceLROnPlateau(monitor='val_loss', factor=0.5, patience=10, verbose=1)\n",
    "mcp = ModelCheckpoint(filepath='weights.h5', monitor='val_loss', verbose=1, save_best_only=True, save_weights_only=True)\n",
    "\n",
    "tb = TensorBoard('logs')\n",
    "\n",
    "history = model.fit(train_generator,\n",
    "                    steps_per_epoch=train_generator.samples  // 64,\n",
    "                    epochs=50,\n",
    "                    validation_data = validation_generator, \n",
    "                    validation_steps = validation_generator.samples // 64,\n",
    "                    callbacks=[es, rlr, mcp, tb],\n",
    "                    verbose=1\n",
    "    )\n",
    "model.save('./SimpleConv.h5')"
   ]
  },
  {
   "cell_type": "code",
   "execution_count": 7,
   "id": "lightweight-couple",
   "metadata": {
    "execution": {
     "iopub.execute_input": "2021-04-17T04:51:13.937185Z",
     "iopub.status.busy": "2021-04-17T04:51:13.936379Z",
     "iopub.status.idle": "2021-04-17T04:51:14.285394Z",
     "shell.execute_reply": "2021-04-17T04:51:14.285904Z"
    },
    "papermill": {
     "duration": 5.983095,
     "end_time": "2021-04-17T04:51:14.286070",
     "exception": false,
     "start_time": "2021-04-17T04:51:08.302975",
     "status": "completed"
    },
    "tags": []
   },
   "outputs": [
    {
     "data": {
      "image/png": "[encoded data removed]",
      "text/plain": [
       "<Figure size 1152x432 with 2 Axes>"
      ]
     },
     "metadata": {
      "needs_background": "light"
     },
     "output_type": "display_data"
    }
   ],
   "source": [
    "plt.figure(figsize = (16,6))\n",
    "plt.subplot(1,2,1)\n",
    "plt.plot(history.history['accuracy'], label='training accuracy')\n",
    "plt.plot(history.history['val_accuracy'], label='val accuracy')\n",
    "plt.title('accuracy')\n",
    "plt.xlabel('epochs')\n",
    "plt.ylabel('accuracy')\n",
    "plt.legend()\n",
    "plt.subplot(1,2,2)\n",
    "plt.plot(history.history['loss'], label='training loss')\n",
    "plt.plot(history.history['val_loss'], label='val loss')\n",
    "plt.title('Loss')\n",
    "plt.xlabel('epochs')\n",
    "plt.ylabel('loss')\n",
    "plt.legend()\n",
    "plt.show()\n"
   ]
  },
  {
   "cell_type": "code",
   "execution_count": 8,
   "id": "individual-creativity",
   "metadata": {
    "execution": {
     "iopub.execute_input": "2021-04-17T04:51:25.423404Z",
     "iopub.status.busy": "2021-04-17T04:51:25.417502Z",
     "iopub.status.idle": "2021-04-17T04:53:03.120925Z",
     "shell.execute_reply": "2021-04-17T04:53:03.120470Z"
    },
    "papermill": {
     "duration": 103.266589,
     "end_time": "2021-04-17T04:53:03.121059",
     "exception": false,
     "start_time": "2021-04-17T04:51:19.854470",
     "status": "completed"
    },
    "tags": []
   },
   "outputs": [
    {
     "name": "stdout",
     "output_type": "stream",
     "text": [
      "135/135 [==============================] - 97s 718ms/step - loss: 1.2353 - accuracy: 0.7349\n"
     ]
    },
    {
     "data": {
      "text/plain": [
       "[1.2353204488754272, 0.7349425554275513]"
      ]
     },
     "execution_count": 8,
     "metadata": {},
     "output_type": "execute_result"
    }
   ],
   "source": [
    "saved_model = load_model('./SimpleConv.h5')\n",
    "saved_model.evaluate(test_generator)"
   ]
  },
  {
   "cell_type": "code",
   "execution_count": 9,
   "id": "democratic-butter",
   "metadata": {
    "execution": {
     "iopub.execute_input": "2021-04-17T04:53:14.512460Z",
     "iopub.status.busy": "2021-04-17T04:53:14.511705Z",
     "iopub.status.idle": "2021-04-17T04:53:14.514654Z",
     "shell.execute_reply": "2021-04-17T04:53:14.514202Z"
    },
    "papermill": {
     "duration": 6.063141,
     "end_time": "2021-04-17T04:53:14.514779",
     "exception": false,
     "start_time": "2021-04-17T04:53:08.451638",
     "status": "completed"
    },
    "tags": []
   },
   "outputs": [],
   "source": [
    "# VGG16"
   ]
  },
  {
   "cell_type": "code",
   "execution_count": 10,
   "id": "manufactured-botswana",
   "metadata": {
    "execution": {
     "iopub.execute_input": "2021-04-17T04:53:25.353208Z",
     "iopub.status.busy": "2021-04-17T04:53:25.352397Z",
     "iopub.status.idle": "2021-04-17T04:53:26.364352Z",
     "shell.execute_reply": "2021-04-17T04:53:26.361334Z"
    },
    "papermill": {
     "duration": 6.494006,
     "end_time": "2021-04-17T04:53:26.364478",
     "exception": false,
     "start_time": "2021-04-17T04:53:19.870472",
     "status": "completed"
    },
    "tags": []
   },
   "outputs": [
    {
     "name": "stdout",
     "output_type": "stream",
     "text": [
      "Downloading data from https://storage.googleapis.com/tensorflow/keras-applications/vgg16/vgg16_weights_tf_dim_ordering_tf_kernels_notop.h5\n",
      "58892288/58889256 [==============================] - 0s 0us/step\n",
      "Model: \"model\"\n",
      "_________________________________________________________________\n",
      "Layer (type)                 Output Shape              Param #   \n",
      "=================================================================\n",
      "input_1 (InputLayer)         [(None, 224, 224, 3)]     0         \n",
      "_________________________________________________________________\n",
      "block1_conv1 (Conv2D)        (None, 224, 224, 64)      1792      \n",
      "_________________________________________________________________\n",
      "block1_conv2 (Conv2D)        (None, 224, 224, 64)      36928     \n",
      "_________________________________________________________________\n",
      "block1_pool (MaxPooling2D)   (None, 112, 112, 64)      0         \n",
      "_________________________________________________________________\n",
      "block2_conv1 (Conv2D)        (None, 112, 112, 128)     73856     \n",
      "_________________________________________________________________\n",
      "block2_conv2 (Conv2D)        (None, 112, 112, 128)     147584    \n",
      "_________________________________________________________________\n",
      "block2_pool (MaxPooling2D)   (None, 56, 56, 128)       0         \n",
      "_________________________________________________________________\n",
      "block3_conv1 (Conv2D)        (None, 56, 56, 256)       295168    \n",
      "_________________________________________________________________\n",
      "block3_conv2 (Conv2D)        (None, 56, 56, 256)       590080    \n",
      "_________________________________________________________________\n",
      "block3_conv3 (Conv2D)        (None, 56, 56, 256)       590080    \n",
      "_________________________________________________________________\n",
      "block3_pool (MaxPooling2D)   (None, 28, 28, 256)       0         \n",
      "_________________________________________________________________\n",
      "block4_conv1 (Conv2D)        (None, 28, 28, 512)       1180160   \n",
      "_________________________________________________________________\n",
      "block4_conv2 (Conv2D)        (None, 28, 28, 512)       2359808   \n",
      "_________________________________________________________________\n",
      "block4_conv3 (Conv2D)        (None, 28, 28, 512)       2359808   \n",
      "_________________________________________________________________\n",
      "block4_pool (MaxPooling2D)   (None, 14, 14, 512)       0         \n",
      "_________________________________________________________________\n",
      "block5_conv1 (Conv2D)        (None, 14, 14, 512)       2359808   \n",
      "_________________________________________________________________\n",
      "block5_conv2 (Conv2D)        (None, 14, 14, 512)       2359808   \n",
      "_________________________________________________________________\n",
      "block5_conv3 (Conv2D)        (None, 14, 14, 512)       2359808   \n",
      "_________________________________________________________________\n",
      "block5_pool (MaxPooling2D)   (None, 7, 7, 512)         0         \n",
      "_________________________________________________________________\n",
      "flatten_1 (Flatten)          (None, 25088)             0         \n",
      "_________________________________________________________________\n",
      "dense_2 (Dense)              (None, 2)                 50178     \n",
      "=================================================================\n",
      "Total params: 14,764,866\n",
      "Trainable params: 50,178\n",
      "Non-trainable params: 14,714,688\n",
      "_________________________________________________________________\n"
     ]
    }
   ],
   "source": [
    "from keras.models import Model\n",
    "from glob import glob\n",
    "# re-size all the images to this\n",
    "IMAGE_SIZE = [224, 224]\n",
    "\n",
    "\n",
    "# add preprocessing layer to the front of VGG\n",
    "vgg = VGG16(input_shape=IMAGE_SIZE + [3], weights='imagenet', include_top=False)\n",
    "\n",
    "# don't train existing weights\n",
    "for layer in vgg.layers:\n",
    "    layer.trainable = False\n",
    "  \n",
    "\n",
    "  \n",
    "  # useful for getting number of classes\n",
    "\n",
    "#folders = glob('../input/firedata/Training/Training/*')\n",
    "  \n",
    "\n",
    "# our layers - you can add more if you want\n",
    "x = Flatten()(vgg.output)\n",
    "# x = Dense(1000, activation='relu')(x)\n",
    "prediction = Dense(2, activation='sigmoid')(x)\n",
    "\n",
    "# create a model object\n",
    "model = Model(inputs=vgg.input, outputs=prediction)\n",
    "\n",
    "# view the structure of the model\n",
    "model.summary()\n",
    "\n",
    "# tell the model what cost and optimization method to use\n",
    "model.compile(\n",
    "  loss='binary_crossentropy',\n",
    "  optimizer='adam',\n",
    "  metrics=['accuracy']\n",
    ")\n"
   ]
  },
  {
   "cell_type": "code",
   "execution_count": 11,
   "id": "acquired-italy",
   "metadata": {
    "execution": {
     "iopub.execute_input": "2021-04-17T04:53:37.257203Z",
     "iopub.status.busy": "2021-04-17T04:53:37.256417Z",
     "iopub.status.idle": "2021-04-17T04:53:39.600195Z",
     "shell.execute_reply": "2021-04-17T04:53:39.600597Z"
    },
    "papermill": {
     "duration": 7.8254,
     "end_time": "2021-04-17T04:53:39.600751",
     "exception": false,
     "start_time": "2021-04-17T04:53:31.775351",
     "status": "completed"
    },
    "tags": []
   },
   "outputs": [
    {
     "name": "stdout",
     "output_type": "stream",
     "text": [
      "Found 31501 images belonging to 2 classes.\n",
      "Found 7874 images belonging to 2 classes.\n",
      "Found 8617 images belonging to 2 classes.\n"
     ]
    }
   ],
   "source": [
    "train_images = ImageDataGenerator(rescale=1.0/255,\n",
    "                                 zoom_range=0.1,\n",
    "                                 width_shift_range=0.2,\n",
    "                                 height_shift_range=0.2,\n",
    "                                 horizontal_flip=True,\n",
    "                                 vertical_flip=True,\n",
    "                                 validation_split=0.2)\n",
    "\n",
    "train_generator = train_images.flow_from_directory(train_dir,\n",
    "                                                    #target_size=(254,254), \n",
    "                                                    color_mode='rgb', \n",
    "                                                    class_mode='binary',\n",
    "                                                    shuffle=True,\n",
    "                                                    subset='training')\n",
    "\n",
    "validation_generator = train_images.flow_from_directory(train_dir, \n",
    "                                                        #target_size=(254,254),\n",
    "                                                        color_mode='rgb',\n",
    "                                                        class_mode='binary',\n",
    "                                                        shuffle=True,\n",
    "                                                        subset='validation')\n",
    "\n",
    "test_images = ImageDataGenerator(rescale=1.0/255)\n",
    "\n",
    "test_generator = test_images.flow_from_directory(test_dir,\n",
    "                                                    #target_size=(254,254), \n",
    "                                                    color_mode='rgb', \n",
    "                                                    class_mode='binary',\n",
    "                                                    shuffle=False)\n",
    "                                                    #batch_size=64)"
   ]
  },
  {
   "cell_type": "code",
   "execution_count": 12,
   "id": "color-latex",
   "metadata": {
    "execution": {
     "iopub.execute_input": "2021-04-17T04:53:50.909482Z",
     "iopub.status.busy": "2021-04-17T04:53:50.908656Z",
     "iopub.status.idle": "2021-04-17T04:53:51.536118Z",
     "shell.execute_reply": "2021-04-17T04:53:51.536760Z"
    },
    "papermill": {
     "duration": 5.89365,
     "end_time": "2021-04-17T04:53:51.536972",
     "exception": false,
     "start_time": "2021-04-17T04:53:45.643322",
     "status": "completed"
    },
    "tags": []
   },
   "outputs": [
    {
     "name": "stdout",
     "output_type": "stream",
     "text": [
      "Epoch 1/5\n"
     ]
    },
    {
     "ename": "ValueError",
     "evalue": "in user code:\n\n    /opt/conda/lib/python3.7/site-packages/tensorflow/python/keras/engine/training.py:805 train_function  *\n        return step_function(self, iterator)\n    /opt/conda/lib/python3.7/site-packages/tensorflow/python/keras/engine/training.py:795 step_function  **\n        outputs = model.distribute_strategy.run(run_step, args=(data,))\n    /opt/conda/lib/python3.7/site-packages/tensorflow/python/distribute/distribute_lib.py:1259 run\n        return self._extended.call_for_each_replica(fn, args=args, kwargs=kwargs)\n    /opt/conda/lib/python3.7/site-packages/tensorflow/python/distribute/distribute_lib.py:2730 call_for_each_replica\n        return self._call_for_each_replica(fn, args, kwargs)\n    /opt/conda/lib/python3.7/site-packages/tensorflow/python/distribute/distribute_lib.py:3417 _call_for_each_replica\n        return fn(*args, **kwargs)\n    /opt/conda/lib/python3.7/site-packages/tensorflow/python/keras/engine/training.py:788 run_step  **\n        outputs = model.train_step(data)\n    /opt/conda/lib/python3.7/site-packages/tensorflow/python/keras/engine/training.py:756 train_step\n        y, y_pred, sample_weight, regularization_losses=self.losses)\n    /opt/conda/lib/python3.7/site-packages/tensorflow/python/keras/engine/compile_utils.py:203 __call__\n        loss_value = loss_obj(y_t, y_p, sample_weight=sw)\n    /opt/conda/lib/python3.7/site-packages/tensorflow/python/keras/losses.py:152 __call__\n        losses = call_fn(y_true, y_pred)\n    /opt/conda/lib/python3.7/site-packages/tensorflow/python/keras/losses.py:256 call  **\n        return ag_fn(y_true, y_pred, **self._fn_kwargs)\n    /opt/conda/lib/python3.7/site-packages/tensorflow/python/util/dispatch.py:201 wrapper\n        return target(*args, **kwargs)\n    /opt/conda/lib/python3.7/site-packages/tensorflow/python/keras/losses.py:1608 binary_crossentropy\n        K.binary_crossentropy(y_true, y_pred, from_logits=from_logits), axis=-1)\n    /opt/conda/lib/python3.7/site-packages/tensorflow/python/util/dispatch.py:201 wrapper\n        return target(*args, **kwargs)\n    /opt/conda/lib/python3.7/site-packages/tensorflow/python/keras/backend.py:4979 binary_crossentropy\n        return nn.sigmoid_cross_entropy_with_logits(labels=target, logits=output)\n    /opt/conda/lib/python3.7/site-packages/tensorflow/python/util/dispatch.py:201 wrapper\n        return target(*args, **kwargs)\n    /opt/conda/lib/python3.7/site-packages/tensorflow/python/ops/nn_impl.py:174 sigmoid_cross_entropy_with_logits\n        (logits.get_shape(), labels.get_shape()))\n\n    ValueError: logits and labels must have the same shape ((None, 2) vs (None, 1))\n",
     "output_type": "error",
     "traceback": [
      "\u001b[0;31m---------------------------------------------------------------------------\u001b[0m",
      "\u001b[0;31mValueError\u001b[0m                                Traceback (most recent call last)",
      "\u001b[0;32m<ipython-input-12-7fae75bccb9d>\u001b[0m in \u001b[0;36m<module>\u001b[0;34m\u001b[0m\n\u001b[1;32m      3\u001b[0m   \u001b[0mtrain_generator\u001b[0m\u001b[0;34m,\u001b[0m\u001b[0;34m\u001b[0m\u001b[0;34m\u001b[0m\u001b[0m\n\u001b[1;32m      4\u001b[0m   \u001b[0mvalidation_data\u001b[0m\u001b[0;34m=\u001b[0m\u001b[0mvalidation_generator\u001b[0m\u001b[0;34m,\u001b[0m\u001b[0;34m\u001b[0m\u001b[0;34m\u001b[0m\u001b[0m\n\u001b[0;32m----> 5\u001b[0;31m   \u001b[0mepochs\u001b[0m\u001b[0;34m=\u001b[0m\u001b[0;36m5\u001b[0m\u001b[0;34m\u001b[0m\u001b[0;34m\u001b[0m\u001b[0m\n\u001b[0m\u001b[1;32m      6\u001b[0m )\n\u001b[1;32m      7\u001b[0m \u001b[0;34m\u001b[0m\u001b[0m\n",
      "\u001b[0;32m/opt/conda/lib/python3.7/site-packages/tensorflow/python/keras/engine/training.py\u001b[0m in \u001b[0;36mfit\u001b[0;34m(self, x, y, batch_size, epochs, verbose, callbacks, validation_split, validation_data, shuffle, class_weight, sample_weight, initial_epoch, steps_per_epoch, validation_steps, validation_batch_size, validation_freq, max_queue_size, workers, use_multiprocessing)\u001b[0m\n\u001b[1;32m   1098\u001b[0m                 _r=1):\n\u001b[1;32m   1099\u001b[0m               \u001b[0mcallbacks\u001b[0m\u001b[0;34m.\u001b[0m\u001b[0mon_train_batch_begin\u001b[0m\u001b[0;34m(\u001b[0m\u001b[0mstep\u001b[0m\u001b[0;34m)\u001b[0m\u001b[0;34m\u001b[0m\u001b[0;34m\u001b[0m\u001b[0m\n\u001b[0;32m-> 1100\u001b[0;31m               \u001b[0mtmp_logs\u001b[0m \u001b[0;34m=\u001b[0m \u001b[0mself\u001b[0m\u001b[0;34m.\u001b[0m\u001b[0mtrain_function\u001b[0m\u001b[0;34m(\u001b[0m\u001b[0miterator\u001b[0m\u001b[0;34m)\u001b[0m\u001b[0;34m\u001b[0m\u001b[0;34m\u001b[0m\u001b[0m\n\u001b[0m\u001b[1;32m   1101\u001b[0m               \u001b[0;32mif\u001b[0m \u001b[0mdata_handler\u001b[0m\u001b[0;34m.\u001b[0m\u001b[0mshould_sync\u001b[0m\u001b[0;34m:\u001b[0m\u001b[0;34m\u001b[0m\u001b[0;34m\u001b[0m\u001b[0m\n\u001b[1;32m   1102\u001b[0m                 \u001b[0mcontext\u001b[0m\u001b[0;34m.\u001b[0m\u001b[0masync_wait\u001b[0m\u001b[0;34m(\u001b[0m\u001b[0;34m)\u001b[0m\u001b[0;34m\u001b[0m\u001b[0;34m\u001b[0m\u001b[0m\n",
      "\u001b[0;32m/opt/conda/lib/python3.7/site-packages/tensorflow/python/eager/def_function.py\u001b[0m in \u001b[0;36m__call__\u001b[0;34m(self, *args, **kwds)\u001b[0m\n\u001b[1;32m    826\u001b[0m     \u001b[0mtracing_count\u001b[0m \u001b[0;34m=\u001b[0m \u001b[0mself\u001b[0m\u001b[0;34m.\u001b[0m\u001b[0mexperimental_get_tracing_count\u001b[0m\u001b[0;34m(\u001b[0m\u001b[0;34m)\u001b[0m\u001b[0;34m\u001b[0m\u001b[0;34m\u001b[0m\u001b[0m\n\u001b[1;32m    827\u001b[0m     \u001b[0;32mwith\u001b[0m \u001b[0mtrace\u001b[0m\u001b[0;34m.\u001b[0m\u001b[0mTrace\u001b[0m\u001b[0;34m(\u001b[0m\u001b[0mself\u001b[0m\u001b[0;34m.\u001b[0m\u001b[0m_name\u001b[0m\u001b[0;34m)\u001b[0m \u001b[0;32mas\u001b[0m \u001b[0mtm\u001b[0m\u001b[0;34m:\u001b[0m\u001b[0;34m\u001b[0m\u001b[0;34m\u001b[0m\u001b[0m\n\u001b[0;32m--> 828\u001b[0;31m       \u001b[0mresult\u001b[0m \u001b[0;34m=\u001b[0m \u001b[0mself\u001b[0m\u001b[0;34m.\u001b[0m\u001b[0m_call\u001b[0m\u001b[0;34m(\u001b[0m\u001b[0;34m*\u001b[0m\u001b[0margs\u001b[0m\u001b[0;34m,\u001b[0m \u001b[0;34m**\u001b[0m\u001b[0mkwds\u001b[0m\u001b[0;34m)\u001b[0m\u001b[0;34m\u001b[0m\u001b[0;34m\u001b[0m\u001b[0m\n\u001b[0m\u001b[1;32m    829\u001b[0m       \u001b[0mcompiler\u001b[0m \u001b[0;34m=\u001b[0m \u001b[0;34m\"xla\"\u001b[0m \u001b[0;32mif\u001b[0m \u001b[0mself\u001b[0m\u001b[0;34m.\u001b[0m\u001b[0m_experimental_compile\u001b[0m \u001b[0;32melse\u001b[0m \u001b[0;34m\"nonXla\"\u001b[0m\u001b[0;34m\u001b[0m\u001b[0;34m\u001b[0m\u001b[0m\n\u001b[1;32m    830\u001b[0m       \u001b[0mnew_tracing_count\u001b[0m \u001b[0;34m=\u001b[0m \u001b[0mself\u001b[0m\u001b[0;34m.\u001b[0m\u001b[0mexperimental_get_tracing_count\u001b[0m\u001b[0;34m(\u001b[0m\u001b[0;34m)\u001b[0m\u001b[0;34m\u001b[0m\u001b[0;34m\u001b[0m\u001b[0m\n",
      "\u001b[0;32m/opt/conda/lib/python3.7/site-packages/tensorflow/python/eager/def_function.py\u001b[0m in \u001b[0;36m_call\u001b[0;34m(self, *args, **kwds)\u001b[0m\n\u001b[1;32m    869\u001b[0m       \u001b[0;31m# This is the first call of __call__, so we have to initialize.\u001b[0m\u001b[0;34m\u001b[0m\u001b[0;34m\u001b[0m\u001b[0;34m\u001b[0m\u001b[0m\n\u001b[1;32m    870\u001b[0m       \u001b[0minitializers\u001b[0m \u001b[0;34m=\u001b[0m \u001b[0;34m[\u001b[0m\u001b[0;34m]\u001b[0m\u001b[0;34m\u001b[0m\u001b[0;34m\u001b[0m\u001b[0m\n\u001b[0;32m--> 871\u001b[0;31m       \u001b[0mself\u001b[0m\u001b[0;34m.\u001b[0m\u001b[0m_initialize\u001b[0m\u001b[0;34m(\u001b[0m\u001b[0margs\u001b[0m\u001b[0;34m,\u001b[0m \u001b[0mkwds\u001b[0m\u001b[0;34m,\u001b[0m \u001b[0madd_initializers_to\u001b[0m\u001b[0;34m=\u001b[0m\u001b[0minitializers\u001b[0m\u001b[0;34m)\u001b[0m\u001b[0;34m\u001b[0m\u001b[0;34m\u001b[0m\u001b[0m\n\u001b[0m\u001b[1;32m    872\u001b[0m     \u001b[0;32mfinally\u001b[0m\u001b[0;34m:\u001b[0m\u001b[0;34m\u001b[0m\u001b[0;34m\u001b[0m\u001b[0m\n\u001b[1;32m    873\u001b[0m       \u001b[0;31m# At this point we know that the initialization is complete (or less\u001b[0m\u001b[0;34m\u001b[0m\u001b[0;34m\u001b[0m\u001b[0;34m\u001b[0m\u001b[0m\n",
      "\u001b[0;32m/opt/conda/lib/python3.7/site-packages/tensorflow/python/eager/def_function.py\u001b[0m in \u001b[0;36m_initialize\u001b[0;34m(self, args, kwds, add_initializers_to)\u001b[0m\n\u001b[1;32m    724\u001b[0m     self._concrete_stateful_fn = (\n\u001b[1;32m    725\u001b[0m         self._stateful_fn._get_concrete_function_internal_garbage_collected(  # pylint: disable=protected-access\n\u001b[0;32m--> 726\u001b[0;31m             *args, **kwds))\n\u001b[0m\u001b[1;32m    727\u001b[0m \u001b[0;34m\u001b[0m\u001b[0m\n\u001b[1;32m    728\u001b[0m     \u001b[0;32mdef\u001b[0m \u001b[0minvalid_creator_scope\u001b[0m\u001b[0;34m(\u001b[0m\u001b[0;34m*\u001b[0m\u001b[0munused_args\u001b[0m\u001b[0;34m,\u001b[0m \u001b[0;34m**\u001b[0m\u001b[0munused_kwds\u001b[0m\u001b[0;34m)\u001b[0m\u001b[0;34m:\u001b[0m\u001b[0;34m\u001b[0m\u001b[0;34m\u001b[0m\u001b[0m\n",
      "\u001b[0;32m/opt/conda/lib/python3.7/site-packages/tensorflow/python/eager/function.py\u001b[0m in \u001b[0;36m_get_concrete_function_internal_garbage_collected\u001b[0;34m(self, *args, **kwargs)\u001b[0m\n\u001b[1;32m   2967\u001b[0m       \u001b[0margs\u001b[0m\u001b[0;34m,\u001b[0m \u001b[0mkwargs\u001b[0m \u001b[0;34m=\u001b[0m \u001b[0;32mNone\u001b[0m\u001b[0;34m,\u001b[0m \u001b[0;32mNone\u001b[0m\u001b[0;34m\u001b[0m\u001b[0;34m\u001b[0m\u001b[0m\n\u001b[1;32m   2968\u001b[0m     \u001b[0;32mwith\u001b[0m \u001b[0mself\u001b[0m\u001b[0;34m.\u001b[0m\u001b[0m_lock\u001b[0m\u001b[0;34m:\u001b[0m\u001b[0;34m\u001b[0m\u001b[0;34m\u001b[0m\u001b[0m\n\u001b[0;32m-> 2969\u001b[0;31m       \u001b[0mgraph_function\u001b[0m\u001b[0;34m,\u001b[0m \u001b[0m_\u001b[0m \u001b[0;34m=\u001b[0m \u001b[0mself\u001b[0m\u001b[0;34m.\u001b[0m\u001b[0m_maybe_define_function\u001b[0m\u001b[0;34m(\u001b[0m\u001b[0margs\u001b[0m\u001b[0;34m,\u001b[0m \u001b[0mkwargs\u001b[0m\u001b[0;34m)\u001b[0m\u001b[0;34m\u001b[0m\u001b[0;34m\u001b[0m\u001b[0m\n\u001b[0m\u001b[1;32m   2970\u001b[0m     \u001b[0;32mreturn\u001b[0m \u001b[0mgraph_function\u001b[0m\u001b[0;34m\u001b[0m\u001b[0;34m\u001b[0m\u001b[0m\n\u001b[1;32m   2971\u001b[0m \u001b[0;34m\u001b[0m\u001b[0m\n",
      "\u001b[0;32m/opt/conda/lib/python3.7/site-packages/tensorflow/python/eager/function.py\u001b[0m in \u001b[0;36m_maybe_define_function\u001b[0;34m(self, args, kwargs)\u001b[0m\n\u001b[1;32m   3359\u001b[0m \u001b[0;34m\u001b[0m\u001b[0m\n\u001b[1;32m   3360\u001b[0m           \u001b[0mself\u001b[0m\u001b[0;34m.\u001b[0m\u001b[0m_function_cache\u001b[0m\u001b[0;34m.\u001b[0m\u001b[0mmissed\u001b[0m\u001b[0;34m.\u001b[0m\u001b[0madd\u001b[0m\u001b[0;34m(\u001b[0m\u001b[0mcall_context_key\u001b[0m\u001b[0;34m)\u001b[0m\u001b[0;34m\u001b[0m\u001b[0;34m\u001b[0m\u001b[0m\n\u001b[0;32m-> 3361\u001b[0;31m           \u001b[0mgraph_function\u001b[0m \u001b[0;34m=\u001b[0m \u001b[0mself\u001b[0m\u001b[0;34m.\u001b[0m\u001b[0m_create_graph_function\u001b[0m\u001b[0;34m(\u001b[0m\u001b[0margs\u001b[0m\u001b[0;34m,\u001b[0m \u001b[0mkwargs\u001b[0m\u001b[0;34m)\u001b[0m\u001b[0;34m\u001b[0m\u001b[0;34m\u001b[0m\u001b[0m\n\u001b[0m\u001b[1;32m   3362\u001b[0m           \u001b[0mself\u001b[0m\u001b[0;34m.\u001b[0m\u001b[0m_function_cache\u001b[0m\u001b[0;34m.\u001b[0m\u001b[0mprimary\u001b[0m\u001b[0;34m[\u001b[0m\u001b[0mcache_key\u001b[0m\u001b[0;34m]\u001b[0m \u001b[0;34m=\u001b[0m \u001b[0mgraph_function\u001b[0m\u001b[0;34m\u001b[0m\u001b[0;34m\u001b[0m\u001b[0m\n\u001b[1;32m   3363\u001b[0m \u001b[0;34m\u001b[0m\u001b[0m\n",
      "\u001b[0;32m/opt/conda/lib/python3.7/site-packages/tensorflow/python/eager/function.py\u001b[0m in \u001b[0;36m_create_graph_function\u001b[0;34m(self, args, kwargs, override_flat_arg_shapes)\u001b[0m\n\u001b[1;32m   3204\u001b[0m             \u001b[0marg_names\u001b[0m\u001b[0;34m=\u001b[0m\u001b[0marg_names\u001b[0m\u001b[0;34m,\u001b[0m\u001b[0;34m\u001b[0m\u001b[0;34m\u001b[0m\u001b[0m\n\u001b[1;32m   3205\u001b[0m             \u001b[0moverride_flat_arg_shapes\u001b[0m\u001b[0;34m=\u001b[0m\u001b[0moverride_flat_arg_shapes\u001b[0m\u001b[0;34m,\u001b[0m\u001b[0;34m\u001b[0m\u001b[0;34m\u001b[0m\u001b[0m\n\u001b[0;32m-> 3206\u001b[0;31m             capture_by_value=self._capture_by_value),\n\u001b[0m\u001b[1;32m   3207\u001b[0m         \u001b[0mself\u001b[0m\u001b[0;34m.\u001b[0m\u001b[0m_function_attributes\u001b[0m\u001b[0;34m,\u001b[0m\u001b[0;34m\u001b[0m\u001b[0;34m\u001b[0m\u001b[0m\n\u001b[1;32m   3208\u001b[0m         \u001b[0mfunction_spec\u001b[0m\u001b[0;34m=\u001b[0m\u001b[0mself\u001b[0m\u001b[0;34m.\u001b[0m\u001b[0mfunction_spec\u001b[0m\u001b[0;34m,\u001b[0m\u001b[0;34m\u001b[0m\u001b[0;34m\u001b[0m\u001b[0m\n",
      "\u001b[0;32m/opt/conda/lib/python3.7/site-packages/tensorflow/python/framework/func_graph.py\u001b[0m in \u001b[0;36mfunc_graph_from_py_func\u001b[0;34m(name, python_func, args, kwargs, signature, func_graph, autograph, autograph_options, add_control_dependencies, arg_names, op_return_value, collections, capture_by_value, override_flat_arg_shapes)\u001b[0m\n\u001b[1;32m    988\u001b[0m         \u001b[0m_\u001b[0m\u001b[0;34m,\u001b[0m \u001b[0moriginal_func\u001b[0m \u001b[0;34m=\u001b[0m \u001b[0mtf_decorator\u001b[0m\u001b[0;34m.\u001b[0m\u001b[0munwrap\u001b[0m\u001b[0;34m(\u001b[0m\u001b[0mpython_func\u001b[0m\u001b[0;34m)\u001b[0m\u001b[0;34m\u001b[0m\u001b[0;34m\u001b[0m\u001b[0m\n\u001b[1;32m    989\u001b[0m \u001b[0;34m\u001b[0m\u001b[0m\n\u001b[0;32m--> 990\u001b[0;31m       \u001b[0mfunc_outputs\u001b[0m \u001b[0;34m=\u001b[0m \u001b[0mpython_func\u001b[0m\u001b[0;34m(\u001b[0m\u001b[0;34m*\u001b[0m\u001b[0mfunc_args\u001b[0m\u001b[0;34m,\u001b[0m \u001b[0;34m**\u001b[0m\u001b[0mfunc_kwargs\u001b[0m\u001b[0;34m)\u001b[0m\u001b[0;34m\u001b[0m\u001b[0;34m\u001b[0m\u001b[0m\n\u001b[0m\u001b[1;32m    991\u001b[0m \u001b[0;34m\u001b[0m\u001b[0m\n\u001b[1;32m    992\u001b[0m       \u001b[0;31m# invariant: `func_outputs` contains only Tensors, CompositeTensors,\u001b[0m\u001b[0;34m\u001b[0m\u001b[0;34m\u001b[0m\u001b[0;34m\u001b[0m\u001b[0m\n",
      "\u001b[0;32m/opt/conda/lib/python3.7/site-packages/tensorflow/python/eager/def_function.py\u001b[0m in \u001b[0;36mwrapped_fn\u001b[0;34m(*args, **kwds)\u001b[0m\n\u001b[1;32m    632\u001b[0m             \u001b[0mxla_context\u001b[0m\u001b[0;34m.\u001b[0m\u001b[0mExit\u001b[0m\u001b[0;34m(\u001b[0m\u001b[0;34m)\u001b[0m\u001b[0;34m\u001b[0m\u001b[0;34m\u001b[0m\u001b[0m\n\u001b[1;32m    633\u001b[0m         \u001b[0;32melse\u001b[0m\u001b[0;34m:\u001b[0m\u001b[0;34m\u001b[0m\u001b[0;34m\u001b[0m\u001b[0m\n\u001b[0;32m--> 634\u001b[0;31m           \u001b[0mout\u001b[0m \u001b[0;34m=\u001b[0m \u001b[0mweak_wrapped_fn\u001b[0m\u001b[0;34m(\u001b[0m\u001b[0;34m)\u001b[0m\u001b[0;34m.\u001b[0m\u001b[0m__wrapped__\u001b[0m\u001b[0;34m(\u001b[0m\u001b[0;34m*\u001b[0m\u001b[0margs\u001b[0m\u001b[0;34m,\u001b[0m \u001b[0;34m**\u001b[0m\u001b[0mkwds\u001b[0m\u001b[0;34m)\u001b[0m\u001b[0;34m\u001b[0m\u001b[0;34m\u001b[0m\u001b[0m\n\u001b[0m\u001b[1;32m    635\u001b[0m         \u001b[0;32mreturn\u001b[0m \u001b[0mout\u001b[0m\u001b[0;34m\u001b[0m\u001b[0;34m\u001b[0m\u001b[0m\n\u001b[1;32m    636\u001b[0m \u001b[0;34m\u001b[0m\u001b[0m\n",
      "\u001b[0;32m/opt/conda/lib/python3.7/site-packages/tensorflow/python/framework/func_graph.py\u001b[0m in \u001b[0;36mwrapper\u001b[0;34m(*args, **kwargs)\u001b[0m\n\u001b[1;32m    975\u001b[0m           \u001b[0;32mexcept\u001b[0m \u001b[0mException\u001b[0m \u001b[0;32mas\u001b[0m \u001b[0me\u001b[0m\u001b[0;34m:\u001b[0m  \u001b[0;31m# pylint:disable=broad-except\u001b[0m\u001b[0;34m\u001b[0m\u001b[0;34m\u001b[0m\u001b[0m\n\u001b[1;32m    976\u001b[0m             \u001b[0;32mif\u001b[0m \u001b[0mhasattr\u001b[0m\u001b[0;34m(\u001b[0m\u001b[0me\u001b[0m\u001b[0;34m,\u001b[0m \u001b[0;34m\"ag_error_metadata\"\u001b[0m\u001b[0;34m)\u001b[0m\u001b[0;34m:\u001b[0m\u001b[0;34m\u001b[0m\u001b[0;34m\u001b[0m\u001b[0m\n\u001b[0;32m--> 977\u001b[0;31m               \u001b[0;32mraise\u001b[0m \u001b[0me\u001b[0m\u001b[0;34m.\u001b[0m\u001b[0mag_error_metadata\u001b[0m\u001b[0;34m.\u001b[0m\u001b[0mto_exception\u001b[0m\u001b[0;34m(\u001b[0m\u001b[0me\u001b[0m\u001b[0;34m)\u001b[0m\u001b[0;34m\u001b[0m\u001b[0;34m\u001b[0m\u001b[0m\n\u001b[0m\u001b[1;32m    978\u001b[0m             \u001b[0;32melse\u001b[0m\u001b[0;34m:\u001b[0m\u001b[0;34m\u001b[0m\u001b[0;34m\u001b[0m\u001b[0m\n\u001b[1;32m    979\u001b[0m               \u001b[0;32mraise\u001b[0m\u001b[0;34m\u001b[0m\u001b[0;34m\u001b[0m\u001b[0m\n",
      "\u001b[0;31mValueError\u001b[0m: in user code:\n\n    /opt/conda/lib/python3.7/site-packages/tensorflow/python/keras/engine/training.py:805 train_function  *\n        return step_function(self, iterator)\n    /opt/conda/lib/python3.7/site-packages/tensorflow/python/keras/engine/training.py:795 step_function  **\n        outputs = model.distribute_strategy.run(run_step, args=(data,))\n    /opt/conda/lib/python3.7/site-packages/tensorflow/python/distribute/distribute_lib.py:1259 run\n        return self._extended.call_for_each_replica(fn, args=args, kwargs=kwargs)\n    /opt/conda/lib/python3.7/site-packages/tensorflow/python/distribute/distribute_lib.py:2730 call_for_each_replica\n        return self._call_for_each_replica(fn, args, kwargs)\n    /opt/conda/lib/python3.7/site-packages/tensorflow/python/distribute/distribute_lib.py:3417 _call_for_each_replica\n        return fn(*args, **kwargs)\n    /opt/conda/lib/python3.7/site-packages/tensorflow/python/keras/engine/training.py:788 run_step  **\n        outputs = model.train_step(data)\n    /opt/conda/lib/python3.7/site-packages/tensorflow/python/keras/engine/training.py:756 train_step\n        y, y_pred, sample_weight, regularization_losses=self.losses)\n    /opt/conda/lib/python3.7/site-packages/tensorflow/python/keras/engine/compile_utils.py:203 __call__\n        loss_value = loss_obj(y_t, y_p, sample_weight=sw)\n    /opt/conda/lib/python3.7/site-packages/tensorflow/python/keras/losses.py:152 __call__\n        losses = call_fn(y_true, y_pred)\n    /opt/conda/lib/python3.7/site-packages/tensorflow/python/keras/losses.py:256 call  **\n        return ag_fn(y_true, y_pred, **self._fn_kwargs)\n    /opt/conda/lib/python3.7/site-packages/tensorflow/python/util/dispatch.py:201 wrapper\n        return target(*args, **kwargs)\n    /opt/conda/lib/python3.7/site-packages/tensorflow/python/keras/losses.py:1608 binary_crossentropy\n        K.binary_crossentropy(y_true, y_pred, from_logits=from_logits), axis=-1)\n    /opt/conda/lib/python3.7/site-packages/tensorflow/python/util/dispatch.py:201 wrapper\n        return target(*args, **kwargs)\n    /opt/conda/lib/python3.7/site-packages/tensorflow/python/keras/backend.py:4979 binary_crossentropy\n        return nn.sigmoid_cross_entropy_with_logits(labels=target, logits=output)\n    /opt/conda/lib/python3.7/site-packages/tensorflow/python/util/dispatch.py:201 wrapper\n        return target(*args, **kwargs)\n    /opt/conda/lib/python3.7/site-packages/tensorflow/python/ops/nn_impl.py:174 sigmoid_cross_entropy_with_logits\n        (logits.get_shape(), labels.get_shape()))\n\n    ValueError: logits and labels must have the same shape ((None, 2) vs (None, 1))\n"
     ]
    }
   ],
   "source": [
    "#fit the model\n",
    "r = model.fit(\n",
    "  train_generator,\n",
    "  validation_data=validation_generator,\n",
    "  epochs=5\n",
    ")\n",
    "\n",
    "\n",
    "# loss\n",
    "plt.plot(r.history['loss'], label='train loss')\n",
    "plt.plot(r.history['val_loss'], label='val loss')\n",
    "plt.legend()\n",
    "plt.show()\n",
    "plt.savefig('LossVal_loss')\n",
    "\n",
    "# accuracies\n",
    "plt.plot(r.history['acc'], label='train acc')\n",
    "plt.plot(r.history['val_acc'], label='val acc')\n",
    "plt.legend()\n",
    "plt.show()\n",
    "plt.savefig('AccVal_acc')\n",
    "\n",
    "import tensorflow as tf\n",
    "\n",
    "from keras.models import load_model\n",
    "\n",
    "model.save('vgg.h5')\n"
   ]
  },
  {
   "cell_type": "code",
   "execution_count": null,
   "id": "moral-vehicle",
   "metadata": {
    "papermill": {
     "duration": 5.407794,
     "end_time": "2021-04-17T04:54:02.564848",
     "exception": false,
     "start_time": "2021-04-17T04:53:57.157054",
     "status": "completed"
    },
    "tags": []
   },
   "outputs": [],
   "source": []
  }
 ],
 "metadata": {
  "kernelspec": {
   "display_name": "Python 3",
   "language": "python",
   "name": "python3"
  },
  "language_info": {
   "codemirror_mode": {
    "name": "ipython",
    "version": 3
   },
   "file_extension": ".py",
   "mimetype": "text/x-python",
   "name": "python",
   "nbconvert_exporter": "python",
   "pygments_lexer": "ipython3",
   "version": "3.7.9"
  },
  "papermill": {
   "default_parameters": {},
   "duration": 26039.495683,
   "end_time": "2021-04-17T04:54:10.821521",
   "environment_variables": {},
   "exception": null,
   "input_path": "__notebook__.ipynb",
   "output_path": "__notebook__.ipynb",
   "parameters": {},
   "start_time": "2021-04-16T21:40:11.325838",
   "version": "2.3.2"
  }
 },
 "nbformat": 4,
 "nbformat_minor": 5
}
