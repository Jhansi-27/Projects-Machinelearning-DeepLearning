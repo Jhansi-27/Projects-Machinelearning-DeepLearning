{
 "cells": [
  {
   "cell_type": "code",
   "execution_count": 18,
   "metadata": {},
   "outputs": [],
   "source": [
    "# importing necessary libraries\n",
    "from sklearn.impute import SimpleImputer\n",
    "from sklearn.preprocessing import RobustScaler\n",
    "from sklearn.preprocessing import OneHotEncoder\n",
    "from sklearn.compose import ColumnTransformer\n",
    "\n",
    "from sklearn.model_selection import train_test_split\n",
    "from sklearn.model_selection import GridSearchCV\n",
    "from sklearn.model_selection import StratifiedKFold\n",
    "from sklearn.pipeline import Pipeline\n",
    "\n",
    "## Machine learning algorithms to perform classification\n",
    "\n",
    "from sklearn.neighbors import KNeighborsClassifier\n",
    "from sklearn.svm import SVC\n",
    "from sklearn.linear_model import LogisticRegression\n",
    "from sklearn.neural_network import MLPClassifier \n",
    "import xgboost as xgb\n",
    "from xgboost import XGBClassifier\n",
    "\n",
    "\n",
    "## performance metrics for classification\n",
    "from sklearn.metrics import accuracy_score,confusion_matrix,ConfusionMatrixDisplay,classification_report\n",
    "import warnings\n",
    "warnings.filterwarnings('ignore')"
   ]
  },
  {
   "cell_type": "code",
   "execution_count": 3,
   "metadata": {},
   "outputs": [],
   "source": [
    "#loading train and test datasets\n",
    "train_data = pd.read_csv(\"Train.csv\")\n",
    "test_data = pd.read_csv(\"Test.csv\")"
   ]
  },
  {
   "cell_type": "markdown",
   "metadata": {},
   "source": [
    "# Model Building"
   ]
  },
  {
   "cell_type": "code",
   "execution_count": 4,
   "metadata": {},
   "outputs": [],
   "source": [
    "# Dropping the ID column as it doen't contribute to predicting custo,mer group\n",
    "train_data.drop(columns='ID',inplace=True)"
   ]
  },
  {
   "cell_type": "code",
   "execution_count": 5,
   "metadata": {},
   "outputs": [
    {
     "data": {
      "text/html": [
       "<div>\n",
       "<style scoped>\n",
       "    .dataframe tbody tr th:only-of-type {\n",
       "        vertical-align: middle;\n",
       "    }\n",
       "\n",
       "    .dataframe tbody tr th {\n",
       "        vertical-align: top;\n",
       "    }\n",
       "\n",
       "    .dataframe thead th {\n",
       "        text-align: right;\n",
       "    }\n",
       "</style>\n",
       "<table border=\"1\" class=\"dataframe\">\n",
       "  <thead>\n",
       "    <tr style=\"text-align: right;\">\n",
       "      <th></th>\n",
       "      <th>Gender</th>\n",
       "      <th>Ever_Married</th>\n",
       "      <th>Age</th>\n",
       "      <th>Graduated</th>\n",
       "      <th>Profession</th>\n",
       "      <th>Work_Experience</th>\n",
       "      <th>Spending_Score</th>\n",
       "      <th>Family_Size</th>\n",
       "      <th>Var_1</th>\n",
       "      <th>Segmentation</th>\n",
       "    </tr>\n",
       "  </thead>\n",
       "  <tbody>\n",
       "    <tr>\n",
       "      <th>0</th>\n",
       "      <td>Male</td>\n",
       "      <td>No</td>\n",
       "      <td>22</td>\n",
       "      <td>No</td>\n",
       "      <td>Healthcare</td>\n",
       "      <td>1.0</td>\n",
       "      <td>Low</td>\n",
       "      <td>4.0</td>\n",
       "      <td>Cat_4</td>\n",
       "      <td>4</td>\n",
       "    </tr>\n",
       "    <tr>\n",
       "      <th>1</th>\n",
       "      <td>Female</td>\n",
       "      <td>Yes</td>\n",
       "      <td>38</td>\n",
       "      <td>Yes</td>\n",
       "      <td>Engineer</td>\n",
       "      <td>NaN</td>\n",
       "      <td>Average</td>\n",
       "      <td>3.0</td>\n",
       "      <td>Cat_4</td>\n",
       "      <td>1</td>\n",
       "    </tr>\n",
       "    <tr>\n",
       "      <th>2</th>\n",
       "      <td>Female</td>\n",
       "      <td>Yes</td>\n",
       "      <td>67</td>\n",
       "      <td>Yes</td>\n",
       "      <td>Engineer</td>\n",
       "      <td>1.0</td>\n",
       "      <td>Low</td>\n",
       "      <td>1.0</td>\n",
       "      <td>Cat_6</td>\n",
       "      <td>2</td>\n",
       "    </tr>\n",
       "    <tr>\n",
       "      <th>3</th>\n",
       "      <td>Male</td>\n",
       "      <td>Yes</td>\n",
       "      <td>67</td>\n",
       "      <td>Yes</td>\n",
       "      <td>Lawyer</td>\n",
       "      <td>0.0</td>\n",
       "      <td>High</td>\n",
       "      <td>2.0</td>\n",
       "      <td>Cat_6</td>\n",
       "      <td>2</td>\n",
       "    </tr>\n",
       "    <tr>\n",
       "      <th>4</th>\n",
       "      <td>Female</td>\n",
       "      <td>Yes</td>\n",
       "      <td>40</td>\n",
       "      <td>Yes</td>\n",
       "      <td>Entertainment</td>\n",
       "      <td>NaN</td>\n",
       "      <td>High</td>\n",
       "      <td>6.0</td>\n",
       "      <td>Cat_6</td>\n",
       "      <td>1</td>\n",
       "    </tr>\n",
       "  </tbody>\n",
       "</table>\n",
       "</div>"
      ],
      "text/plain": [
       "   Gender Ever_Married  Age Graduated     Profession  Work_Experience  \\\n",
       "0    Male           No   22        No     Healthcare              1.0   \n",
       "1  Female          Yes   38       Yes       Engineer              NaN   \n",
       "2  Female          Yes   67       Yes       Engineer              1.0   \n",
       "3    Male          Yes   67       Yes         Lawyer              0.0   \n",
       "4  Female          Yes   40       Yes  Entertainment              NaN   \n",
       "\n",
       "  Spending_Score  Family_Size  Var_1  Segmentation  \n",
       "0            Low          4.0  Cat_4             4  \n",
       "1        Average          3.0  Cat_4             1  \n",
       "2            Low          1.0  Cat_6             2  \n",
       "3           High          2.0  Cat_6             2  \n",
       "4           High          6.0  Cat_6             1  "
      ]
     },
     "execution_count": 5,
     "metadata": {},
     "output_type": "execute_result"
    }
   ],
   "source": [
    "# encoding target column\n",
    "train_data.Segmentation = train_data.Segmentation.map({'A':1,'B':2,'C':3,'D':4})\n",
    "train_data.head()"
   ]
  },
  {
   "cell_type": "code",
   "execution_count": 6,
   "metadata": {},
   "outputs": [],
   "source": [
    "# separating features and response variable\n",
    "\n",
    "# storing target column in variable called y\n",
    "y = train_data.Segmentation\n",
    "\n",
    "# Storing all the columns otherthan target in variable called X\n",
    "X = train_data.drop(columns = 'Segmentation')"
   ]
  },
  {
   "cell_type": "code",
   "execution_count": 89,
   "metadata": {},
   "outputs": [],
   "source": [
    "## Splitting data : 80% for training and 20% for validation \n",
    "## random_state is set to 45 to get reproducible output across multiple function calls\n",
    "\n",
    "X_train, X_validation, y_train, y_validation = train_test_split(X,y,\n",
    "                                                                test_size=0.20,\n",
    "                                                                random_state=45)"
   ]
  },
  {
   "cell_type": "code",
   "execution_count": 16,
   "metadata": {},
   "outputs": [
    {
     "name": "stdout",
     "output_type": "stream",
     "text": [
      "length of X_train :       6454\n",
      "length of X_validation :  1614\n",
      "length of y_train :       6454\n",
      "length of y_validation:   1614\n"
     ]
    }
   ],
   "source": [
    "print(\"length of X_train :      \",len(X_train))\n",
    "print(\"length of X_validation : \",len(X_validation))\n",
    "print(\"length of y_train :      \",len(y_train))\n",
    "print(\"length of y_validation:  \",len(y_validation))"
   ]
  },
  {
   "cell_type": "markdown",
   "metadata": {},
   "source": [
    "# Creating machine learning models using SupportVectorClassifier, KNeighborsClassifier,LogisticReression and MLPClassifier algoritms¶"
   ]
  },
  {
   "cell_type": "markdown",
   "metadata": {},
   "source": [
    "The following 3 steps will be common for all the models that are going to be built:\n",
    "\n",
    "- step1 : Creating a pipeline for data preprocessing , pipeline contains an imputer and a scaler for numerical columns, imputer and onehotencoder for categorical columns.\n",
    "- step2 : Defining a cross-validation stragtegy using StratifiedKFold crossvalidator\n",
    "- step3 : Creating a function called gridsearch which takes a classifier, parameters for grid search and cross validator and returns the best estimator\n"
   ]
  },
  {
   "cell_type": "code",
   "execution_count": 8,
   "metadata": {},
   "outputs": [],
   "source": [
    "## selecting all the columns whose data type is numerical - int, float\n",
    "numerical_features = train_data.iloc[:,:-1].select_dtypes(include=['int64','float64']).columns\n",
    "\n",
    "## selecting the columns whose datatype is categorical - object\n",
    "categorical_features = train_data.iloc[:,:-1].select_dtypes(include=['object']).columns\n",
    "\n",
    "## Creating a Pipeline that scales the data using Robustscaler on numerical features\n",
    "numerical_transformer = Pipeline(steps = \n",
    "    [\n",
    "        ('imputer', SimpleImputer(strategy='median')), # Imputation transformer for completing missing values\n",
    "        ('scaler', RobustScaler()) # RoustScaler removes the median and scales the data according to the quantile range(defaults to Interquartile Range).\n",
    "    ])\n",
    "\n",
    "SimpleImputer()\n",
    "## Creating a pipeline that encodes categorical features as one-hot numeric array & imputes null values with most frequent value in that column\n",
    "categorical_transformer = Pipeline(steps=\n",
    "     [\n",
    "         ('imputer', SimpleImputer(strategy='most_frequent')),\n",
    "         ('encoder', OneHotEncoder(drop='first'))\n",
    "    ])\n",
    "\n",
    "## Creating a fullpipeline which does both scaling and encoding on given data by combining the two pipelines created(numerical_transformer,categorical_transformer)\n",
    "preprocess_pipe = ColumnTransformer(transformers = [\n",
    "                                         ('numerical',numerical_transformer,numerical_features),\n",
    "                                         ('categorical',categorical_transformer,categorical_features)\n",
    "                                        ])\n",
    "\n",
    "\n",
    "#The following Crossvalidation method will be used in all the models\n",
    "# Kfold cross-validator with 5 folds\n",
    "cv = StratifiedKFold(n_splits=5)"
   ]
  },
  {
   "cell_type": "code",
   "execution_count": 9,
   "metadata": {},
   "outputs": [],
   "source": [
    "# step3: creating a function to perform gridsearch\n",
    "\n",
    "def gridsearch(classifier, grid_params, cv):\n",
    "    \n",
    "    \"\"\"This function takes a classifier, parameters for grid search and cross validator as arguments\n",
    "    and returns the classifier with high accuracy\"\"\"\n",
    "    \n",
    "    ## estimator to gridsearch is a pipeline that performs data preprocesssing and applies a fit with the given classifier.\n",
    "    model = GridSearchCV(\n",
    "                            estimator  = Pipeline(steps =[('preprocess',preprocess_pipe),('classifier',classifier)]),\n",
    "                            param_grid = grid_params,  # perform gridsearch on grid parameters given\n",
    "                            scoring    = 'accuracy',   # accuracy is used as scoring metric\n",
    "                            n_jobs     = -1,           # n_jobs = -1,uses all the processors\n",
    "                            cv         = cv,\n",
    "                            verbose    = 2\n",
    "                       )\n",
    "    model.fit(X_train,y_train) # Fitting the training data.\n",
    "    return model"
   ]
  },
  {
   "cell_type": "markdown",
   "metadata": {},
   "source": [
    "# Logistic Regression"
   ]
  },
  {
   "cell_type": "code",
   "execution_count": 11,
   "metadata": {},
   "outputs": [
    {
     "name": "stdout",
     "output_type": "stream",
     "text": [
      "Fitting 5 folds for each of 300 candidates, totalling 1500 fits\n"
     ]
    },
    {
     "name": "stderr",
     "output_type": "stream",
     "text": [
      "[Parallel(n_jobs=-1)]: Using backend LokyBackend with 8 concurrent workers.\n",
      "[Parallel(n_jobs=-1)]: Done  25 tasks      | elapsed:    1.2s\n",
      "[Parallel(n_jobs=-1)]: Done 146 tasks      | elapsed:    7.1s\n",
      "[Parallel(n_jobs=-1)]: Done 349 tasks      | elapsed:   17.6s\n",
      "[Parallel(n_jobs=-1)]: Done 632 tasks      | elapsed:   32.4s\n",
      "[Parallel(n_jobs=-1)]: Done 997 tasks      | elapsed:   53.5s\n",
      "[Parallel(n_jobs=-1)]: Done 1442 tasks      | elapsed:  1.4min\n",
      "[Parallel(n_jobs=-1)]: Done 1500 out of 1500 | elapsed:  1.4min finished\n"
     ]
    },
    {
     "name": "stdout",
     "output_type": "stream",
     "text": [
      "Best parameters :  {'classifier__C': 0.6158482110660264, 'classifier__penalty': 'l1', 'classifier__solver': 'saga'}  \n",
      "\n",
      "Training Accuracy :    0.5071278199100511\n",
      "Validation Accuracy :  0.5254027261462205 \n",
      " \n",
      "Confusion Matrix: \n",
      " [[194  53  68  76]\n",
      " [118  97 115  42]\n",
      " [ 63  54 235  50]\n",
      " [ 85  23  19 322]]\n",
      " \n",
      "Classification Report : \n",
      "               precision    recall  f1-score   support\n",
      "\n",
      "           1       0.42      0.50      0.46       391\n",
      "           2       0.43      0.26      0.32       372\n",
      "           3       0.54      0.58      0.56       402\n",
      "           4       0.66      0.72      0.69       449\n",
      "\n",
      "    accuracy                           0.53      1614\n",
      "   macro avg       0.51      0.51      0.51      1614\n",
      "weighted avg       0.52      0.53      0.52      1614\n",
      "\n"
     ]
    },
    {
     "data": {
      "image/png": "[encoded data removed]",
      "text/plain": [
       "<Figure size 432x288 with 2 Axes>"
      ]
     },
     "metadata": {
      "needs_background": "light"
     },
     "output_type": "display_data"
    }
   ],
   "source": [
    "# Parameters for gridsearch\n",
    "grid_parameters = { \n",
    "                    'classifier__penalty' :   ['l1', 'l2', 'elasticnet'],\n",
    "                    'classifier__C'       :   np.logspace(-1, 2, 20),\n",
    "                    'classifier__solver'  :   ['newton-cg', 'lbfgs', 'liblinear', 'sag', 'saga']\n",
    "                  }\n",
    "\n",
    "\n",
    "# Calling the function gridsearch with RandomForestClassifier,grid_parameters and Cross validator,saving the model in a variable.\n",
    "model = gridsearch(LogisticRegression(random_state = 1),grid_parameters,cv)\n",
    "\n",
    "## Printing best parameters given by gridsearch \n",
    "print(\"Best parameters : \", model.best_params_, \" \\n\")\n",
    "\n",
    "## printing train accuracy\n",
    "print(\"Training Accuracy :   \", model.best_score_)\n",
    "\n",
    "## Using the fitted model making predictions on validation data and stroring them in a variable called y_predicted.\n",
    "y_predicted = model.best_estimator_.predict(X_validation)\n",
    "\n",
    "## Calculating accuracy score on validation data\n",
    "accuracy_logistic = accuracy_score(y_validation, y_predicted)\n",
    "print(\"Validation Accuracy : \", (accuracy_logistic),  \"\\n \")\n",
    "\n",
    "## priting confusion matrix to evaluate the accuracy of classification.\n",
    "cm_logistic = confusion_matrix(y_validation, y_predicted)\n",
    "print(\"Confusion Matrix: \\n\",cm_logistic)\n",
    "disp = ConfusionMatrixDisplay(cm_logistic)\n",
    "disp.plot()\n",
    "\n",
    "## printing Classification Report: A text report showing the main classification metrics.\n",
    "print(\" \")\n",
    "print(\"Classification Report : \\n\", classification_report(y_validation, y_predicted))   \n",
    "\n",
    "## Saving the best estimator\n",
    "Best_estimator_logistic=  model.best_estimator_"
   ]
  },
  {
   "cell_type": "markdown",
   "metadata": {},
   "source": [
    "# SVC"
   ]
  },
  {
   "cell_type": "code",
   "execution_count": 14,
   "metadata": {},
   "outputs": [
    {
     "name": "stdout",
     "output_type": "stream",
     "text": [
      "Fitting 5 folds for each of 400 candidates, totalling 2000 fits\n"
     ]
    },
    {
     "name": "stderr",
     "output_type": "stream",
     "text": [
      "[Parallel(n_jobs=-1)]: Using backend LokyBackend with 8 concurrent workers.\n",
      "[Parallel(n_jobs=-1)]: Done  25 tasks      | elapsed:    9.3s\n",
      "[Parallel(n_jobs=-1)]: Done 146 tasks      | elapsed:   50.6s\n",
      "[Parallel(n_jobs=-1)]: Done 349 tasks      | elapsed:  2.0min\n",
      "[Parallel(n_jobs=-1)]: Done 632 tasks      | elapsed:  3.7min\n",
      "[Parallel(n_jobs=-1)]: Done 997 tasks      | elapsed:  6.0min\n",
      "[Parallel(n_jobs=-1)]: Done 1442 tasks      | elapsed:  9.3min\n",
      "[Parallel(n_jobs=-1)]: Done 1969 tasks      | elapsed: 47.2min\n",
      "[Parallel(n_jobs=-1)]: Done 2000 out of 2000 | elapsed: 56.6min finished\n"
     ]
    },
    {
     "name": "stdout",
     "output_type": "stream",
     "text": [
      "Best parameters :  {'classifier__C': 0.6158482110660264, 'classifier__gamma': 0.2782559402207126, 'classifier__kernel': 'rbf'}  \n",
      "\n",
      "Training Accuracy :    0.5215384984898432\n",
      "Validation Accuracy :  0.5421313506815365 \n",
      " \n",
      "Confusion Matrix: \n",
      " [[199  76  44  72]\n",
      " [100 146  91  35]\n",
      " [ 43  90 215  54]\n",
      " [101  24   9 315]]\n",
      " \n",
      "Classification Report : \n",
      "               precision    recall  f1-score   support\n",
      "\n",
      "           1       0.45      0.51      0.48       391\n",
      "           2       0.43      0.39      0.41       372\n",
      "           3       0.60      0.53      0.57       402\n",
      "           4       0.66      0.70      0.68       449\n",
      "\n",
      "    accuracy                           0.54      1614\n",
      "   macro avg       0.54      0.53      0.53      1614\n",
      "weighted avg       0.54      0.54      0.54      1614\n",
      "\n"
     ]
    },
    {
     "data": {
      "image/png": "[encoded data removed]",
      "text/plain": [
       "<Figure size 432x288 with 2 Axes>"
      ]
     },
     "metadata": {
      "needs_background": "light"
     },
     "output_type": "display_data"
    }
   ],
   "source": [
    "# Parameters for gridsearch\n",
    "grid_parameters = {  \n",
    "                   'classifier__C'     :        np.logspace(-1,2,20), \n",
    "                   'classifier__gamma' :        np.logspace(-5,5,10),\n",
    "                   'classifier__kernel':        ['rbf','linear']\n",
    "                  }\n",
    "\n",
    "# Calling the function gridsearch with SupportVectorClassifier,grid_parameters and Cross validator,saving the model in a variable.\n",
    "model = gridsearch(SVC(random_state = 1),grid_parameters,cv)\n",
    "\n",
    "## Printing best parameters given by gridsearch \n",
    "print(\"Best parameters : \", model.best_params_, \" \\n\")\n",
    "\n",
    "## printing train accuracy\n",
    "print(\"Training Accuracy :   \", model.best_score_)\n",
    "\n",
    "## Making predictions on validation data\n",
    "y_predicted = model.best_estimator_.predict(X_validation)\n",
    "\n",
    "## Calculating accuracy score on validation data\n",
    "accuracy_svc = accuracy_score(y_validation, y_predicted)\n",
    "print(\"Validation Accuracy : \", (accuracy_svc),  \"\\n \")\n",
    "\n",
    "\n",
    "## priting confusion matrix to evaluate the accuracy of classification.\n",
    "cm_svc = confusion_matrix(y_validation, y_predicted)\n",
    "print(\"Confusion Matrix: \\n\",cm_svc)\n",
    "disp = ConfusionMatrixDisplay(cm_svc)\n",
    "disp.plot()\n",
    "\n",
    "## printing Classification Report: A text report showing the main classification metrics.\n",
    "print(\" \")\n",
    "print(\"Classification Report : \\n\", classification_report(y_validation, y_predicted))       \n",
    "\n",
    "## Saving the best estimator\n",
    "Best_estimator_svc =  model.best_estimator_"
   ]
  },
  {
   "cell_type": "markdown",
   "metadata": {},
   "source": [
    "# KNN "
   ]
  },
  {
   "cell_type": "code",
   "execution_count": 33,
   "metadata": {},
   "outputs": [
    {
     "name": "stdout",
     "output_type": "stream",
     "text": [
      "Fitting 5 folds for each of 1836 candidates, totalling 9180 fits\n"
     ]
    },
    {
     "name": "stderr",
     "output_type": "stream",
     "text": [
      "[Parallel(n_jobs=-1)]: Using backend LokyBackend with 8 concurrent workers.\n",
      "[Parallel(n_jobs=-1)]: Done  25 tasks      | elapsed:    4.7s\n",
      "[Parallel(n_jobs=-1)]: Done 146 tasks      | elapsed:   12.3s\n",
      "[Parallel(n_jobs=-1)]: Done 349 tasks      | elapsed:   25.0s\n",
      "[Parallel(n_jobs=-1)]: Done 632 tasks      | elapsed:   41.6s\n",
      "[Parallel(n_jobs=-1)]: Done 997 tasks      | elapsed:  1.1min\n",
      "[Parallel(n_jobs=-1)]: Done 1442 tasks      | elapsed:  1.5min\n",
      "[Parallel(n_jobs=-1)]: Done 1969 tasks      | elapsed:  2.0min\n",
      "[Parallel(n_jobs=-1)]: Done 2576 tasks      | elapsed:  2.6min\n",
      "[Parallel(n_jobs=-1)]: Done 3265 tasks      | elapsed:  3.3min\n",
      "[Parallel(n_jobs=-1)]: Done 4034 tasks      | elapsed:  3.9min\n",
      "[Parallel(n_jobs=-1)]: Done 4885 tasks      | elapsed:  4.5min\n",
      "[Parallel(n_jobs=-1)]: Done 5816 tasks      | elapsed:  5.1min\n",
      "[Parallel(n_jobs=-1)]: Done 6829 tasks      | elapsed:  5.9min\n",
      "[Parallel(n_jobs=-1)]: Done 7922 tasks      | elapsed:  6.7min\n",
      "[Parallel(n_jobs=-1)]: Done 9097 tasks      | elapsed:  7.7min\n",
      "[Parallel(n_jobs=-1)]: Done 9180 out of 9180 | elapsed:  7.7min finished\n"
     ]
    },
    {
     "name": "stdout",
     "output_type": "stream",
     "text": [
      "Best parameters :  {'classifier__algorithm': 'ball_tree', 'classifier__leaf_size': 4, 'classifier__n_neighbors': 17, 'classifier__p': 1, 'classifier__weights': 'uniform'}  \n",
      "\n",
      "Training Accuracy :    0.49426704855919634\n",
      "Validation Accuracy :  0.49876084262701365 \n",
      " \n",
      "Confusion Matrix: \n",
      " [[160  92  73  66]\n",
      " [ 84 126 126  36]\n",
      " [ 43  85 226  48]\n",
      " [ 97  44  15 293]]\n",
      " \n",
      "Classification Report : \n",
      "               precision    recall  f1-score   support\n",
      "\n",
      "           1       0.42      0.41      0.41       391\n",
      "           2       0.36      0.34      0.35       372\n",
      "           3       0.51      0.56      0.54       402\n",
      "           4       0.66      0.65      0.66       449\n",
      "\n",
      "    accuracy                           0.50      1614\n",
      "   macro avg       0.49      0.49      0.49      1614\n",
      "weighted avg       0.50      0.50      0.50      1614\n",
      "\n"
     ]
    },
    {
     "data": {
      "image/png": "[encoded data removed]",
      "text/plain": [
       "<Figure size 432x288 with 2 Axes>"
      ]
     },
     "metadata": {
      "needs_background": "light"
     },
     "output_type": "display_data"
    }
   ],
   "source": [
    "# Parameters for gridsearch\n",
    "grid_parameters = { \n",
    "    \n",
    "                   'classifier__algorithm'  :   ['ball_tree', 'kd_tree', 'brute'],\n",
    "                   'classifier__leaf_size'  :   range(1,50,3),\n",
    "                   'classifier__n_neighbors':   range(3,20,2), # odd numbers\n",
    "                   'classifier__p'          :   [1,2],\n",
    "                   'classifier__weights'    :   ['uniform', 'distance'] }\n",
    "\n",
    "# Calling the function gridsearch with KNeighborsClassifier,grid_parameters and Cross validator,saving the model in a variable.\n",
    "model = gridsearch(KNeighborsClassifier(),grid_parameters,cv)\n",
    "\n",
    "## Printing best parameters given by gridsearch \n",
    "print(\"Best parameters : \", model.best_params_, \" \\n\")\n",
    "\n",
    "## printing train accuracy\n",
    "print(\"Training Accuracy :   \", model.best_score_)\n",
    "\n",
    "## Making predictions on validation data\n",
    "y_predicted = model.best_estimator_.predict(X_validation)\n",
    "\n",
    "## Calculating accuracy score on validation data\n",
    "accuracy_knn = accuracy_score(y_validation, y_predicted)\n",
    "print(\"Validation Accuracy : \", (accuracy_knn),  \"\\n \")\n",
    "\n",
    "## priting confusion matrix to evaluate the accuracy of classification.\n",
    "cm_knn = confusion_matrix(y_validation, y_predicted)\n",
    "print(\"Confusion Matrix: \\n\",cm_knn)\n",
    "disp = ConfusionMatrixDisplay(cm_knn)\n",
    "disp.plot()\n",
    "\n",
    "## printing Classification Report: A text report showing the main classification metrics.\n",
    "print(\" \")\n",
    "print(\"Classification Report : \\n\", classification_report(y_validation, y_predicted))\n",
    "\n",
    "## Saving the best estimator\n",
    "Best_estimator_knn =  model.best_estimator_"
   ]
  },
  {
   "cell_type": "markdown",
   "metadata": {},
   "source": [
    "# MLPClassifier"
   ]
  },
  {
   "cell_type": "code",
   "execution_count": 21,
   "metadata": {},
   "outputs": [
    {
     "name": "stdout",
     "output_type": "stream",
     "text": [
      "Fitting 5 folds for each of 100 candidates, totalling 500 fits\n"
     ]
    },
    {
     "name": "stderr",
     "output_type": "stream",
     "text": [
      "[Parallel(n_jobs=-1)]: Using backend LokyBackend with 8 concurrent workers.\n",
      "[Parallel(n_jobs=-1)]: Done  25 tasks      | elapsed:    4.3s\n",
      "[Parallel(n_jobs=-1)]: Done 146 tasks      | elapsed:   17.7s\n",
      "[Parallel(n_jobs=-1)]: Done 349 tasks      | elapsed:   50.1s\n",
      "[Parallel(n_jobs=-1)]: Done 500 out of 500 | elapsed:  1.5min finished\n"
     ]
    },
    {
     "name": "stdout",
     "output_type": "stream",
     "text": [
      "Best parameters :  {'classifier__activation': 'relu', 'classifier__early_stopping': True, 'classifier__hidden_layer_sizes': 55, 'classifier__learning_rate': 'adaptive', 'classifier__learning_rate_init': 0.1, 'classifier__solver': 'sgd'}  \n",
      "\n",
      "Training Accuracy :    0.5254106245383964\n",
      "Validation Accuracy :  0.523543990086741 \n",
      " \n",
      "Confusion Matrix: \n",
      " [[219  69  35  68]\n",
      " [131 133  73  35]\n",
      " [ 65 102 189  46]\n",
      " [118  19   8 304]]\n",
      " \n",
      "Classification Report : \n",
      "               precision    recall  f1-score   support\n",
      "\n",
      "           1       0.41      0.56      0.47       391\n",
      "           2       0.41      0.36      0.38       372\n",
      "           3       0.62      0.47      0.53       402\n",
      "           4       0.67      0.68      0.67       449\n",
      "\n",
      "    accuracy                           0.52      1614\n",
      "   macro avg       0.53      0.52      0.52      1614\n",
      "weighted avg       0.54      0.52      0.52      1614\n",
      "\n"
     ]
    },
    {
     "data": {
      "image/png": "[encoded data removed]",
      "text/plain": [
       "<Figure size 432x288 with 2 Axes>"
      ]
     },
     "metadata": {
      "needs_background": "light"
     },
     "output_type": "display_data"
    }
   ],
   "source": [
    "## parameters for performing gridsearch\n",
    "\n",
    "grid_parameters = {\n",
    "    'classifier__hidden_layer_sizes':   np.arange(25,100,15),\n",
    "    'classifier__solver' :              ['sgd','adam'],\n",
    "    'classifier__activation' :          ['relu'],\n",
    "    'classifier__learning_rate' :       ['constant', 'adaptive'],\n",
    "    'classifier__learning_rate_init' :  [0.1,0.2,0.3, 0.4,0.5],\n",
    "    'classifier__early_stopping' : [True]\n",
    "    \n",
    "}\n",
    "\n",
    "# Calling the function gridsearch with KNeighborsClassifier,grid_parameters and Cross validator,saving the model in a variable.\n",
    "model = gridsearch(MLPClassifier(),grid_parameters,cv)\n",
    "\n",
    "## Printing best parameters given by gridsearch \n",
    "print(\"Best parameters : \", model.best_params_, \" \\n\")\n",
    "\n",
    "## printing train accuracy\n",
    "print(\"Training Accuracy :   \", model.best_score_)\n",
    "\n",
    "## Making predictions on validation data\n",
    "y_predicted = model.best_estimator_.predict(X_validation)\n",
    "\n",
    "## Calculating accuracy score on validation data\n",
    "accuracy_MLP = accuracy_score(y_validation, y_predicted)\n",
    "print(\"Validation Accuracy : \", (accuracy_MLP),  \"\\n \")\n",
    "\n",
    "## priting confusion matrix to evaluate the accuracy of classification.\n",
    "cm_MLP = confusion_matrix(y_validation, y_predicted)\n",
    "print(\"Confusion Matrix: \\n\",cm_MLP)\n",
    "disp = ConfusionMatrixDisplay(cm_MLP)\n",
    "disp.plot()\n",
    "\n",
    "## printing Classification Report: A text report showing the main classification metrics.\n",
    "print(\" \")\n",
    "print(\"Classification Report : \\n\", classification_report(y_validation, y_predicted))\n",
    "\n",
    "## Saving the best estimator\n",
    "Best_estimator_MLP =  model.best_estimator_"
   ]
  },
  {
   "cell_type": "markdown",
   "metadata": {},
   "source": [
    "# MLPClassifier"
   ]
  },
  {
   "cell_type": "markdown",
   "metadata": {},
   "source": [
    "# Comparing the performance of different models built"
   ]
  },
  {
   "cell_type": "code",
   "execution_count": 35,
   "metadata": {},
   "outputs": [
    {
     "data": {
      "text/html": [
       "<div>\n",
       "<style scoped>\n",
       "    .dataframe tbody tr th:only-of-type {\n",
       "        vertical-align: middle;\n",
       "    }\n",
       "\n",
       "    .dataframe tbody tr th {\n",
       "        vertical-align: top;\n",
       "    }\n",
       "\n",
       "    .dataframe thead th {\n",
       "        text-align: right;\n",
       "    }\n",
       "</style>\n",
       "<table border=\"1\" class=\"dataframe\">\n",
       "  <thead>\n",
       "    <tr style=\"text-align: right;\">\n",
       "      <th></th>\n",
       "      <th>Accuracy</th>\n",
       "    </tr>\n",
       "  </thead>\n",
       "  <tbody>\n",
       "    <tr>\n",
       "      <th>KNeighbors Classifier</th>\n",
       "      <td>0.498761</td>\n",
       "    </tr>\n",
       "    <tr>\n",
       "      <th>LogisticRegression</th>\n",
       "      <td>0.525403</td>\n",
       "    </tr>\n",
       "    <tr>\n",
       "      <th>SVC</th>\n",
       "      <td>0.542131</td>\n",
       "    </tr>\n",
       "    <tr>\n",
       "      <th>MLP</th>\n",
       "      <td>0.523544</td>\n",
       "    </tr>\n",
       "  </tbody>\n",
       "</table>\n",
       "</div>"
      ],
      "text/plain": [
       "                       Accuracy\n",
       "KNeighbors Classifier  0.498761\n",
       "LogisticRegression     0.525403\n",
       "SVC                    0.542131\n",
       "MLP                    0.523544"
      ]
     },
     "execution_count": 35,
     "metadata": {},
     "output_type": "execute_result"
    }
   ],
   "source": [
    "\n",
    "## creating a dictionay of models with classifier names and corresponding validation accuracy of each classifier\n",
    "models= {\n",
    "           \n",
    "            \"KNeighbors Classifier\"  : [accuracy_knn],\n",
    "            \"LogisticRegression\"     : [accuracy_logistic],\n",
    "            \"SVC\"                    : [accuracy_svc],\n",
    "            \"MLP\"                    : [accuracy_MLP]\n",
    "            \n",
    "            }\n",
    "\n",
    "# Creating a datframe with models dictionary\n",
    "results = pd.DataFrame(models,index=['Accuracy']).transpose()\n",
    "results"
   ]
  },
  {
   "cell_type": "code",
   "execution_count": 88,
   "metadata": {
    "scrolled": true
   },
   "outputs": [
    {
     "data": {
      "text/plain": [
       "<AxesSubplot:>"
      ]
     },
     "execution_count": 88,
     "metadata": {},
     "output_type": "execute_result"
    },
    {
     "data": {
      "image/png": "[encoded data removed]",
      "text/plain": [
       "<Figure size 720x360 with 1 Axes>"
      ]
     },
     "metadata": {
      "needs_background": "light"
     },
     "output_type": "display_data"
    }
   ],
   "source": [
    "# Plotting bar graph to compare the accuracies of models \n",
    "\n",
    "results.plot.barh(figsize=(10,5))"
   ]
  },
  {
   "cell_type": "code",
   "execution_count": 38,
   "metadata": {},
   "outputs": [
    {
     "data": {
      "image/png": "[encoded data removed]",
      "text/plain": [
       "<Figure size 1080x720 with 8 Axes>"
      ]
     },
     "metadata": {
      "needs_background": "light"
     },
     "output_type": "display_data"
    }
   ],
   "source": [
    "plt.figure(figsize=(15,10))\n",
    "plt_number = 1\n",
    "confusion_matrices = [cm_knn,cm_svc,cm_logistic,cm_MLP]\n",
    "matrix_names = ['K-NeighborsClassifier','SupportVectorClassifier','LogisticRegression','MLP']\n",
    "\n",
    "for matrix,matrix_name in zip(confusion_matrices ,matrix_names):\n",
    "    if plt_number <= 4:\n",
    "        ax = plt.subplot(2,2,plt_number)\n",
    "        sns.heatmap(matrix, annot=True,fmt='d',cmap='PuBu')\n",
    "        plt.title(matrix_name)\n",
    "    plt_number+=1"
   ]
  },
  {
   "cell_type": "markdown",
   "metadata": {},
   "source": [
    "# Predictions on Test Data¶"
   ]
  },
  {
   "cell_type": "code",
   "execution_count": 40,
   "metadata": {},
   "outputs": [
    {
     "data": {
      "text/html": [
       "<div>\n",
       "<style scoped>\n",
       "    .dataframe tbody tr th:only-of-type {\n",
       "        vertical-align: middle;\n",
       "    }\n",
       "\n",
       "    .dataframe tbody tr th {\n",
       "        vertical-align: top;\n",
       "    }\n",
       "\n",
       "    .dataframe thead th {\n",
       "        text-align: right;\n",
       "    }\n",
       "</style>\n",
       "<table border=\"1\" class=\"dataframe\">\n",
       "  <thead>\n",
       "    <tr style=\"text-align: right;\">\n",
       "      <th></th>\n",
       "      <th>ID</th>\n",
       "      <th>Gender</th>\n",
       "      <th>Ever_Married</th>\n",
       "      <th>Age</th>\n",
       "      <th>Graduated</th>\n",
       "      <th>Profession</th>\n",
       "      <th>Work_Experience</th>\n",
       "      <th>Spending_Score</th>\n",
       "      <th>Family_Size</th>\n",
       "      <th>Var_1</th>\n",
       "      <th>Segmentation</th>\n",
       "    </tr>\n",
       "  </thead>\n",
       "  <tbody>\n",
       "    <tr>\n",
       "      <th>0</th>\n",
       "      <td>458989</td>\n",
       "      <td>Female</td>\n",
       "      <td>Yes</td>\n",
       "      <td>36</td>\n",
       "      <td>Yes</td>\n",
       "      <td>Engineer</td>\n",
       "      <td>0.0</td>\n",
       "      <td>Low</td>\n",
       "      <td>1.0</td>\n",
       "      <td>Cat_6</td>\n",
       "      <td>B</td>\n",
       "    </tr>\n",
       "    <tr>\n",
       "      <th>1</th>\n",
       "      <td>458994</td>\n",
       "      <td>Male</td>\n",
       "      <td>Yes</td>\n",
       "      <td>37</td>\n",
       "      <td>Yes</td>\n",
       "      <td>Healthcare</td>\n",
       "      <td>8.0</td>\n",
       "      <td>Average</td>\n",
       "      <td>4.0</td>\n",
       "      <td>Cat_6</td>\n",
       "      <td>A</td>\n",
       "    </tr>\n",
       "    <tr>\n",
       "      <th>2</th>\n",
       "      <td>458996</td>\n",
       "      <td>Female</td>\n",
       "      <td>Yes</td>\n",
       "      <td>69</td>\n",
       "      <td>No</td>\n",
       "      <td>NaN</td>\n",
       "      <td>0.0</td>\n",
       "      <td>Low</td>\n",
       "      <td>1.0</td>\n",
       "      <td>Cat_6</td>\n",
       "      <td>A</td>\n",
       "    </tr>\n",
       "    <tr>\n",
       "      <th>3</th>\n",
       "      <td>459000</td>\n",
       "      <td>Male</td>\n",
       "      <td>Yes</td>\n",
       "      <td>59</td>\n",
       "      <td>No</td>\n",
       "      <td>Executive</td>\n",
       "      <td>11.0</td>\n",
       "      <td>High</td>\n",
       "      <td>2.0</td>\n",
       "      <td>Cat_6</td>\n",
       "      <td>B</td>\n",
       "    </tr>\n",
       "    <tr>\n",
       "      <th>4</th>\n",
       "      <td>459001</td>\n",
       "      <td>Female</td>\n",
       "      <td>No</td>\n",
       "      <td>19</td>\n",
       "      <td>No</td>\n",
       "      <td>Marketing</td>\n",
       "      <td>NaN</td>\n",
       "      <td>Low</td>\n",
       "      <td>4.0</td>\n",
       "      <td>Cat_6</td>\n",
       "      <td>A</td>\n",
       "    </tr>\n",
       "  </tbody>\n",
       "</table>\n",
       "</div>"
      ],
      "text/plain": [
       "       ID  Gender Ever_Married  Age Graduated  Profession  Work_Experience  \\\n",
       "0  458989  Female          Yes   36       Yes    Engineer              0.0   \n",
       "1  458994    Male          Yes   37       Yes  Healthcare              8.0   \n",
       "2  458996  Female          Yes   69        No         NaN              0.0   \n",
       "3  459000    Male          Yes   59        No   Executive             11.0   \n",
       "4  459001  Female           No   19        No   Marketing              NaN   \n",
       "\n",
       "  Spending_Score  Family_Size  Var_1 Segmentation  \n",
       "0            Low          1.0  Cat_6            B  \n",
       "1        Average          4.0  Cat_6            A  \n",
       "2            Low          1.0  Cat_6            A  \n",
       "3           High          2.0  Cat_6            B  \n",
       "4            Low          4.0  Cat_6            A  "
      ]
     },
     "execution_count": 40,
     "metadata": {},
     "output_type": "execute_result"
    }
   ],
   "source": [
    "# Reading the given test dataset into pandas dataframe\n",
    "test_data = pd.read_csv(\"Test.csv\")\n",
    "\n",
    "## Displaying the first 5 rows of data\n",
    "test_data.head(5)"
   ]
  },
  {
   "cell_type": "code",
   "execution_count": 70,
   "metadata": {},
   "outputs": [
    {
     "data": {
      "text/html": [
       "<div>\n",
       "<style scoped>\n",
       "    .dataframe tbody tr th:only-of-type {\n",
       "        vertical-align: middle;\n",
       "    }\n",
       "\n",
       "    .dataframe tbody tr th {\n",
       "        vertical-align: top;\n",
       "    }\n",
       "\n",
       "    .dataframe thead th {\n",
       "        text-align: right;\n",
       "    }\n",
       "</style>\n",
       "<table border=\"1\" class=\"dataframe\">\n",
       "  <thead>\n",
       "    <tr style=\"text-align: right;\">\n",
       "      <th></th>\n",
       "      <th>ID</th>\n",
       "      <th>Gender</th>\n",
       "      <th>Ever_Married</th>\n",
       "      <th>Age</th>\n",
       "      <th>Graduated</th>\n",
       "      <th>Profession</th>\n",
       "      <th>Work_Experience</th>\n",
       "      <th>Spending_Score</th>\n",
       "      <th>Family_Size</th>\n",
       "      <th>Var_1</th>\n",
       "      <th>Segmentation</th>\n",
       "    </tr>\n",
       "  </thead>\n",
       "  <tbody>\n",
       "    <tr>\n",
       "      <th>0</th>\n",
       "      <td>458989</td>\n",
       "      <td>Female</td>\n",
       "      <td>Yes</td>\n",
       "      <td>36</td>\n",
       "      <td>Yes</td>\n",
       "      <td>Engineer</td>\n",
       "      <td>0.0</td>\n",
       "      <td>Low</td>\n",
       "      <td>1.0</td>\n",
       "      <td>Cat_6</td>\n",
       "      <td>2</td>\n",
       "    </tr>\n",
       "    <tr>\n",
       "      <th>1</th>\n",
       "      <td>458994</td>\n",
       "      <td>Male</td>\n",
       "      <td>Yes</td>\n",
       "      <td>37</td>\n",
       "      <td>Yes</td>\n",
       "      <td>Healthcare</td>\n",
       "      <td>8.0</td>\n",
       "      <td>Average</td>\n",
       "      <td>4.0</td>\n",
       "      <td>Cat_6</td>\n",
       "      <td>1</td>\n",
       "    </tr>\n",
       "    <tr>\n",
       "      <th>2</th>\n",
       "      <td>458996</td>\n",
       "      <td>Female</td>\n",
       "      <td>Yes</td>\n",
       "      <td>69</td>\n",
       "      <td>No</td>\n",
       "      <td>NaN</td>\n",
       "      <td>0.0</td>\n",
       "      <td>Low</td>\n",
       "      <td>1.0</td>\n",
       "      <td>Cat_6</td>\n",
       "      <td>1</td>\n",
       "    </tr>\n",
       "    <tr>\n",
       "      <th>3</th>\n",
       "      <td>459000</td>\n",
       "      <td>Male</td>\n",
       "      <td>Yes</td>\n",
       "      <td>59</td>\n",
       "      <td>No</td>\n",
       "      <td>Executive</td>\n",
       "      <td>11.0</td>\n",
       "      <td>High</td>\n",
       "      <td>2.0</td>\n",
       "      <td>Cat_6</td>\n",
       "      <td>2</td>\n",
       "    </tr>\n",
       "    <tr>\n",
       "      <th>4</th>\n",
       "      <td>459001</td>\n",
       "      <td>Female</td>\n",
       "      <td>No</td>\n",
       "      <td>19</td>\n",
       "      <td>No</td>\n",
       "      <td>Marketing</td>\n",
       "      <td>NaN</td>\n",
       "      <td>Low</td>\n",
       "      <td>4.0</td>\n",
       "      <td>Cat_6</td>\n",
       "      <td>1</td>\n",
       "    </tr>\n",
       "  </tbody>\n",
       "</table>\n",
       "</div>"
      ],
      "text/plain": [
       "       ID  Gender Ever_Married  Age Graduated  Profession  Work_Experience  \\\n",
       "0  458989  Female          Yes   36       Yes    Engineer              0.0   \n",
       "1  458994    Male          Yes   37       Yes  Healthcare              8.0   \n",
       "2  458996  Female          Yes   69        No         NaN              0.0   \n",
       "3  459000    Male          Yes   59        No   Executive             11.0   \n",
       "4  459001  Female           No   19        No   Marketing              NaN   \n",
       "\n",
       "  Spending_Score  Family_Size  Var_1  Segmentation  \n",
       "0            Low          1.0  Cat_6             2  \n",
       "1        Average          4.0  Cat_6             1  \n",
       "2            Low          1.0  Cat_6             1  \n",
       "3           High          2.0  Cat_6             2  \n",
       "4            Low          4.0  Cat_6             1  "
      ]
     },
     "execution_count": 70,
     "metadata": {},
     "output_type": "execute_result"
    }
   ],
   "source": [
    "test_data.Segmentation = test_data.Segmentation.map({'A':1,'B':2,'C':3,'D':4})\n",
    "test_data.head()"
   ]
  },
  {
   "cell_type": "code",
   "execution_count": 74,
   "metadata": {},
   "outputs": [],
   "source": [
    "# storing target column in variable called y\n",
    "y_test = test_data.Segmentation\n",
    "\n",
    "# Storing all the columns otherthan target in variable called X\n",
    "X_test = test_data.drop(columns = 'Segmentation')"
   ]
  },
  {
   "cell_type": "code",
   "execution_count": 72,
   "metadata": {},
   "outputs": [
    {
     "data": {
      "text/plain": [
       "Pipeline(steps=[('preprocess',\n",
       "                 ColumnTransformer(transformers=[('numerical',\n",
       "                                                  Pipeline(steps=[('imputer',\n",
       "                                                                   SimpleImputer(strategy='median')),\n",
       "                                                                  ('scaler',\n",
       "                                                                   RobustScaler())]),\n",
       "                                                  Index(['Age', 'Work_Experience', 'Family_Size'], dtype='object')),\n",
       "                                                 ('categorical',\n",
       "                                                  Pipeline(steps=[('imputer',\n",
       "                                                                   SimpleImputer(strategy='most_frequent')),\n",
       "                                                                  ('encoder',\n",
       "                                                                   OneHotEncoder(drop='first'))]),\n",
       "                                                  Index(['Gender', 'Ever_Married', 'Graduated', 'Profession', 'Spending_Score',\n",
       "       'Var_1'],\n",
       "      dtype='object'))])),\n",
       "                ('classifier',\n",
       "                 SVC(C=0.6158482110660264, gamma=0.2782559402207126,\n",
       "                     random_state=1))])"
      ]
     },
     "execution_count": 72,
     "metadata": {},
     "output_type": "execute_result"
    }
   ],
   "source": [
    "Best_estimator_svc"
   ]
  },
  {
   "cell_type": "code",
   "execution_count": 75,
   "metadata": {},
   "outputs": [
    {
     "data": {
      "text/plain": [
       "array([1, 3, 1, ..., 1, 2, 4], dtype=int64)"
      ]
     },
     "execution_count": 75,
     "metadata": {},
     "output_type": "execute_result"
    }
   ],
   "source": [
    "## Predicting the class labels of test data using the best model chosen \n",
    "## SVC showed highest accuracy of 54% and using that model, we are predicting class labels of test data\n",
    "\n",
    "predictions = Best_estimator_svc.predict(X_test)\n",
    "#Class_predictions = pd.Series(Class_predictions)\n",
    "#Class_predictions\n",
    "predictions"
   ]
  },
  {
   "cell_type": "code",
   "execution_count": 78,
   "metadata": {},
   "outputs": [
    {
     "data": {
      "text/plain": [
       "0.33764750666159116"
      ]
     },
     "execution_count": 78,
     "metadata": {},
     "output_type": "execute_result"
    }
   ],
   "source": [
    "from sklearn import metrics\n",
    "metrics.accuracy_score(y_test,predictions)"
   ]
  },
  {
   "cell_type": "code",
   "execution_count": 80,
   "metadata": {},
   "outputs": [],
   "source": [
    "# Alternatively we can save the model to the local file system for deployment\n",
    "import pickle\n",
    "filename = 'Customer_segments.pickle'\n",
    "pickle.dump(Best_estimator_svc, open(filename, 'wb'))"
   ]
  },
  {
   "cell_type": "code",
   "execution_count": null,
   "metadata": {},
   "outputs": [],
   "source": []
  },
  {
   "cell_type": "code",
   "execution_count": null,
   "metadata": {},
   "outputs": [],
   "source": []
  }
 ],
 "metadata": {
  "kernelspec": {
   "display_name": "Python 3",
   "language": "python",
   "name": "python3"
  },
  "language_info": {
   "codemirror_mode": {
    "name": "ipython",
    "version": 3
   },
   "file_extension": ".py",
   "mimetype": "text/x-python",
   "name": "python",
   "nbconvert_exporter": "python",
   "pygments_lexer": "ipython3",
   "version": "3.8.5"
  }
 },
 "nbformat": 4,
 "nbformat_minor": 4
}
