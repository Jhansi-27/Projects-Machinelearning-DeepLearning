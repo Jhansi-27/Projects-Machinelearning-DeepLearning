{
 "cells": [
  {
   "cell_type": "code",
   "execution_count": 74,
   "metadata": {
    "scrolled": true
   },
   "outputs": [
    {
     "name": "stdout",
     "output_type": "stream",
     "text": [
      "Mr Susan D'souza\n",
      "H.No:8, Colchester\n",
      "+44 5423891290\n",
      "susan.kelly@hotmail.com\n",
      "\n",
      "Mrs. Keya Parekh\n",
      "H.No:12, Sussex\n",
      "+91 9087653421\n",
      "keya24@gmail.com\n",
      "\n",
      "Mr Yassir rabhi\n",
      "Flat:25, Ipswich\n",
      "+44 2098674532\n",
      "rabhi_23@essex.co.uk\n",
      "\n",
      "Ms Rosie\n",
      "H.No:41, Parklane, Clacton\n",
      "+21 3456789001\n",
      "roses@gmail.com\n"
     ]
    }
   ],
   "source": [
    "with open('phonebook.txt','r') as file:\n",
    "    contents = file.read()\n",
    "    print(contents)"
   ]
  },
  {
   "cell_type": "code",
   "execution_count": 190,
   "metadata": {},
   "outputs": [],
   "source": [
    "with open('phonebook.txt','r') as file:\n",
    "    contents = file.read()\n",
    "    # extract all the names of people from this file\n",
    "    name_pattern = re.compile(r'M(s|rs|r)\\.?\\s+[A-Z]\\w+\\s+\\w?\\'?\\w+')\n",
    "    name_matches = name_pattern.finditer(contents)\n",
    "    # extract all the addresses of people from this file\n",
    "    address_pattern = re.compile(r'(H|F)\\.?\\w+\\:\\d+\\,\\s\\w+')\n",
    "    address_matches =  address_pattern.finditer(contents)\n",
    "    # extract all the phone numbers of people from this file\n",
    "    phone_pattern = re.compile(r'\\+\\d{2}\\s?\\d+')\n",
    "    phone_matches = phone_pattern.finditer(contents)\n",
    "    # extract all the emails\n",
    "    email_pat = re.compile(r'[a-z]+\\_*\\d*\\@\\w+\\.?\\w+')\n",
    "    email_matches = email_pat.finditer(contents)\n",
    "    "
   ]
  },
  {
   "cell_type": "code",
   "execution_count": 191,
   "metadata": {},
   "outputs": [],
   "source": [
    "# for name,address,phone,email in zip(name_matches,address_matches,phone_matches,email_matches):\n",
    "#     print(name,'\\n',address,'\\n',phone,'\\n',email)\n",
    "#     print('-------------------------')\n",
    "#     print(name.group(0))"
   ]
  },
  {
   "cell_type": "code",
   "execution_count": 192,
   "metadata": {},
   "outputs": [
    {
     "name": "stdout",
     "output_type": "stream",
     "text": [
      "{'name': \"Mr Susan D'souza\", 'address': 'H.No:8, Colchester', 'phone': '+44 5423891290', 'email': 'kelly@hotmail.com'}\n",
      "{'name': 'Mrs. Keya Parekh', 'address': 'H.No:12, Sussex', 'phone': '+91 9087653421', 'email': 'keya24@gmail.com'}\n",
      "{'name': 'Mr Yassir rabhi', 'address': 'Flat:25, Ipswich', 'phone': '+44 2098674532', 'email': 'rabhi_23@essex.co'}\n",
      "{'name': 'Ms Rosie Rayap', 'address': 'H.No:41, Parklane', 'phone': '+21 3456789001', 'email': 'roses@gmail.com'}\n"
     ]
    }
   ],
   "source": [
    "phone_list = []\n",
    "for name,address,phone,email in zip(name_matches,address_matches,phone_matches,email_matches):\n",
    "    #print(name.group(),'\\n',address.group(),'\\n',phone.group(),'\\n',email.group())\n",
    "    phone_dict = {'name':name.group(),\n",
    "                   'address':address.group(),\n",
    "                   'phone':phone.group(),\n",
    "                   'email':email.group()}\n",
    "    print(phone_dict)\n",
    "    phone_list.append(phone_dict)"
   ]
  },
  {
   "cell_type": "code",
   "execution_count": 189,
   "metadata": {},
   "outputs": [
    {
     "data": {
      "text/html": [
       "<div>\n",
       "<style scoped>\n",
       "    .dataframe tbody tr th:only-of-type {\n",
       "        vertical-align: middle;\n",
       "    }\n",
       "\n",
       "    .dataframe tbody tr th {\n",
       "        vertical-align: top;\n",
       "    }\n",
       "\n",
       "    .dataframe thead th {\n",
       "        text-align: right;\n",
       "    }\n",
       "</style>\n",
       "<table border=\"1\" class=\"dataframe\">\n",
       "  <thead>\n",
       "    <tr style=\"text-align: right;\">\n",
       "      <th></th>\n",
       "      <th>name</th>\n",
       "      <th>address</th>\n",
       "      <th>phone</th>\n",
       "      <th>email</th>\n",
       "    </tr>\n",
       "  </thead>\n",
       "  <tbody>\n",
       "    <tr>\n",
       "      <th>0</th>\n",
       "      <td>Mr Susan D'souza</td>\n",
       "      <td>H.No:8, Colchester</td>\n",
       "      <td>+44 5423891290</td>\n",
       "      <td>kelly@hotmail.com</td>\n",
       "    </tr>\n",
       "    <tr>\n",
       "      <th>1</th>\n",
       "      <td>Mrs. Keya Parekh</td>\n",
       "      <td>H.No:12, Sussex</td>\n",
       "      <td>+91 9087653421</td>\n",
       "      <td>keya24@gmail.com</td>\n",
       "    </tr>\n",
       "    <tr>\n",
       "      <th>2</th>\n",
       "      <td>Mr Yassir rabhi</td>\n",
       "      <td>Flat:25, Ipswich</td>\n",
       "      <td>+44 2098674532</td>\n",
       "      <td>rabhi_23@essex.co</td>\n",
       "    </tr>\n",
       "    <tr>\n",
       "      <th>3</th>\n",
       "      <td>Ms Rosie Rayap</td>\n",
       "      <td>H.No:41, Parklane</td>\n",
       "      <td>+21 3456789001</td>\n",
       "      <td>roses@gmail.com</td>\n",
       "    </tr>\n",
       "  </tbody>\n",
       "</table>\n",
       "</div>"
      ],
      "text/plain": [
       "               name             address           phone              email\n",
       "0  Mr Susan D'souza  H.No:8, Colchester  +44 5423891290  kelly@hotmail.com\n",
       "1  Mrs. Keya Parekh     H.No:12, Sussex  +91 9087653421   keya24@gmail.com\n",
       "2   Mr Yassir rabhi    Flat:25, Ipswich  +44 2098674532  rabhi_23@essex.co\n",
       "3    Ms Rosie Rayap   H.No:41, Parklane  +21 3456789001    roses@gmail.com"
      ]
     },
     "execution_count": 189,
     "metadata": {},
     "output_type": "execute_result"
    }
   ],
   "source": [
    "import pandas as pd\n",
    "df = pd.DataFrame(phone_list)\n",
    "df"
   ]
  },
  {
   "cell_type": "code",
   "execution_count": 223,
   "metadata": {},
   "outputs": [],
   "source": [
    "urls = '''\n",
    "https://www.google.com\n",
    "http://bhuvika.com\n",
    "https://youtube.com\n",
    "https://www.nasa.gov\n",
    "'''"
   ]
  },
  {
   "cell_type": "code",
   "execution_count": 221,
   "metadata": {},
   "outputs": [
    {
     "name": "stdout",
     "output_type": "stream",
     "text": [
      "https://www.google.com\n",
      "http://bhuvika.com\n",
      "https://youtube.com\n",
      "https://www.nasa.gov\n"
     ]
    }
   ],
   "source": [
    "pattern = re.compile(r'http[s]?://\\w+.\\w+.?\\w+')\n",
    "matches = pattern.finditer(urls)\n",
    "for match in matches:\n",
    "    print(match.group())"
   ]
  },
  {
   "cell_type": "code",
   "execution_count": 228,
   "metadata": {},
   "outputs": [
    {
     "name": "stdout",
     "output_type": "stream",
     "text": [
      "google\n",
      "bhuvika\n",
      "youtube\n",
      "nasa\n"
     ]
    }
   ],
   "source": [
    "pattern = re.compile(r'https?://(www\\.)?(\\w+)(\\.\\w+)')\n",
    "matches = pattern.finditer(urls)\n",
    "for match in matches:\n",
    "    print(match.group(2))"
   ]
  },
  {
   "cell_type": "code",
   "execution_count": null,
   "metadata": {},
   "outputs": [],
   "source": []
  }
 ],
 "metadata": {
  "kernelspec": {
   "display_name": "Python 3",
   "language": "python",
   "name": "python3"
  },
  "language_info": {
   "codemirror_mode": {
    "name": "ipython",
    "version": 3
   },
   "file_extension": ".py",
   "mimetype": "text/x-python",
   "name": "python",
   "nbconvert_exporter": "python",
   "pygments_lexer": "ipython3",
   "version": "3.8.5"
  }
 },
 "nbformat": 4,
 "nbformat_minor": 4
}
